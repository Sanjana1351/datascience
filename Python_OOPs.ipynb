{
  "nbformat": 4,
  "nbformat_minor": 0,
  "metadata": {
    "colab": {
      "provenance": []
    },
    "kernelspec": {
      "name": "python3",
      "display_name": "Python 3"
    },
    "language_info": {
      "name": "python"
    }
  },
  "cells": [
    {
      "cell_type": "code",
      "execution_count": null,
      "metadata": {
        "colab": {
          "base_uri": "https://localhost:8080/"
        },
        "id": "mwTnkcZ4gPzk",
        "outputId": "7f75c4b7-b5ad-404d-b2a2-823a0a358069"
      },
      "outputs": [
        {
          "output_type": "stream",
          "name": "stdout",
          "text": [
            "The animal makes a sound\n",
            "Bark!\n"
          ]
        }
      ],
      "source": [
        "#Create a parent class Animal with a method speak() that prints a generic message. Create a child class Dog that overrides the speak() method to print \"Bark!\".\n",
        "\n",
        "# Parent class\n",
        "class Animal:\n",
        "    def speak(self):\n",
        "        print(\"The animal makes a sound\")\n",
        "\n",
        "# Child class\n",
        "class Dog(Animal):\n",
        "    def speak(self):\n",
        "        print(\"Bark!\")\n",
        "\n",
        "# Example usage\n",
        "generic_animal = Animal()\n",
        "generic_animal.speak()\n",
        "\n",
        "my_dog = Dog()\n",
        "my_dog.speak()\n"
      ]
    },
    {
      "cell_type": "code",
      "source": [
        "#Write a program to create an abstract class Shape with a method area(). Derive classes Circle and Rectangle from it and implement the area() method in both.\n",
        "\n",
        "from abc import ABC, abstractmethod\n",
        "import math\n",
        "\n",
        "# Abstract class\n",
        "class Shape(ABC):\n",
        "    @abstractmethod\n",
        "    def area(self):\n",
        "        pass\n",
        "\n",
        "# Circle class\n",
        "class Circle(Shape):\n",
        "    def __init__(self, radius):\n",
        "        self.radius = radius\n",
        "\n",
        "    def area(self):\n",
        "        return math.pi * self.radius ** 2\n",
        "\n",
        "# Rectangle class\n",
        "class Rectangle(Shape):\n",
        "    def __init__(self, length, width):\n",
        "        self.length = length\n",
        "        self.width = width\n",
        "\n",
        "    def area(self):\n",
        "        return self.length * self.width\n",
        "\n",
        "# Example usage\n",
        "circle = Circle(5)\n",
        "rectangle = Rectangle(4, 6)\n",
        "\n",
        "print(\"Circle area:\", round(circle.area(), 2))\n",
        "print(\"Rectangle area:\", rectangle.area())\n"
      ],
      "metadata": {
        "colab": {
          "base_uri": "https://localhost:8080/"
        },
        "id": "zmQccyBdgmK3",
        "outputId": "24d90479-d1b7-4b1a-e688-e9778d9cb775"
      },
      "execution_count": null,
      "outputs": [
        {
          "output_type": "stream",
          "name": "stdout",
          "text": [
            "Circle area: 78.54\n",
            "Rectangle area: 24\n"
          ]
        }
      ]
    },
    {
      "cell_type": "code",
      "source": [
        "#. Implement a multi-level inheritance scenario where a class Vehicle has an attribute type. Derive a class Car and further derive a class ElectricCar that adds a battery attribute.\n",
        "# Base class\n",
        "class Vehicle:\n",
        "    def __init__(self, vehicle_type):\n",
        "        self.type = vehicle_type\n",
        "\n",
        "# Derived class\n",
        "class Car(Vehicle):\n",
        "    def __init__(self, vehicle_type, brand):\n",
        "        super().__init__(vehicle_type)\n",
        "        self.brand = brand\n",
        "\n",
        "# Further derived class\n",
        "class ElectricCar(Car):\n",
        "    def __init__(self, vehicle_type, brand, battery_capacity):\n",
        "        super().__init__(vehicle_type, brand)\n",
        "        self.battery = battery_capacity\n",
        "\n",
        "    def display_info(self):\n",
        "        print(f\"Type: {self.type}\")\n",
        "        print(f\"Brand: {self.brand}\")\n",
        "        print(f\"Battery: {self.battery} kWh\")\n",
        "\n",
        "# Example usage\n",
        "tesla = ElectricCar(\"Four-Wheeler\", \"Tesla\", 75)\n",
        "tesla.display_info()\n",
        "\n",
        "\n"
      ],
      "metadata": {
        "colab": {
          "base_uri": "https://localhost:8080/"
        },
        "id": "dyJZhi-mgmOH",
        "outputId": "ef9cbb13-745b-4b49-801f-6279c008741b"
      },
      "execution_count": null,
      "outputs": [
        {
          "output_type": "stream",
          "name": "stdout",
          "text": [
            "Type: Four-Wheeler\n",
            "Brand: Tesla\n",
            "Battery: 75 kWh\n"
          ]
        }
      ]
    },
    {
      "cell_type": "code",
      "source": [
        "#Demonstrate polymorphism by creating a base class Bird with a method fly(). Create two derived classes  Sparrow and Penguin that override the fly() method.\n",
        "\n",
        "# Base class\n",
        "class Bird:\n",
        "    def fly(self):\n",
        "        print(\"Some birds can fly.\")\n",
        "\n",
        "# Derived class 1\n",
        "class Sparrow(Bird):\n",
        "    def fly(self):\n",
        "        print(\"Sparrow flies high in the sky!\")\n",
        "\n",
        "# Derived class 2\n",
        "class Penguin(Bird):\n",
        "    def fly(self):\n",
        "        print(\"Penguins can't fly, but they're great swimmers!\")\n",
        "\n",
        "# Function demonstrating polymorphism\n",
        "def bird_flight(bird):\n",
        "    bird.fly()\n",
        "\n",
        "# Example usage\n",
        "birds = [Sparrow(), Penguin()]\n",
        "\n",
        "for b in birds:\n",
        "    bird_flight(b)\n",
        "\n",
        "\n"
      ],
      "metadata": {
        "colab": {
          "base_uri": "https://localhost:8080/"
        },
        "id": "SJgYr4v5gmT_",
        "outputId": "331c775a-b8aa-4bef-a762-f035c2e88ed8"
      },
      "execution_count": null,
      "outputs": [
        {
          "output_type": "stream",
          "name": "stdout",
          "text": [
            "Sparrow flies high in the sky!\n",
            "Penguins can't fly, but they're great swimmers!\n"
          ]
        }
      ]
    },
    {
      "cell_type": "code",
      "source": [
        "# Write a program to demonstrate encapsulation by creating a class BankAccount with private attributes balance and methods to deposit, withdraw, and check balance\n",
        "\n",
        "class BankAccount:\n",
        "    def __init__(self, initial_balance=0):\n",
        "        self.__balance = initial_balance  # Private attribute\n",
        "\n",
        "    def deposit(self, amount):\n",
        "        if amount > 0:\n",
        "            self.__balance += amount\n",
        "            print(f\"Deposited: ₹{amount}\")\n",
        "        else:\n",
        "            print(\"Deposit amount must be positive.\")\n",
        "\n",
        "    def withdraw(self, amount):\n",
        "        if 0 < amount <= self.__balance:\n",
        "            self.__balance -= amount\n",
        "            print(f\"Withdrawn: ₹{amount}\")\n",
        "        else:\n",
        "            print(\"Insufficient balance or invalid amount.\")\n",
        "\n",
        "    def check_balance(self):\n",
        "        print(f\"Current Balance: ₹{self.__balance}\")\n",
        "\n",
        "# Example usage\n",
        "my_account = BankAccount(1000)\n",
        "\n",
        "my_account.check_balance()     # ₹1000\n",
        "my_account.deposit(500)        # ₹1500\n",
        "my_account.withdraw(200)       # ₹1300\n",
        "my_account.check_balance()     # ₹1300\n",
        "\n",
        "# Trying to access the private attribute directly (won’t work)\n",
        "# print(my_account.__balance)  # AttributeError\n"
      ],
      "metadata": {
        "colab": {
          "base_uri": "https://localhost:8080/"
        },
        "id": "sfivsk8ygmWO",
        "outputId": "bd98fe44-dc93-4a57-938a-4283925a0e12"
      },
      "execution_count": null,
      "outputs": [
        {
          "output_type": "stream",
          "name": "stdout",
          "text": [
            "Current Balance: ₹1000\n",
            "Deposited: ₹500\n",
            "Withdrawn: ₹200\n",
            "Current Balance: ₹1300\n"
          ]
        }
      ]
    },
    {
      "cell_type": "code",
      "source": [
        "#Demonstrate runtime polymorphism using a method play() in a base class Instrument. Derive classes Guitar and Piano that implement their own version of play().\n",
        "# Base class\n",
        "class Instrument:\n",
        "    def play(self):\n",
        "        print(\"The instrument is being played.\")\n",
        "\n",
        "# Derived class 1\n",
        "class Guitar(Instrument):\n",
        "    def play(self):\n",
        "        print(\"Strumming the guitar... 🎸\")\n",
        "\n",
        "# Derived class 2\n",
        "class Piano(Instrument):\n",
        "    def play(self):\n",
        "        print(\"Playing the piano... 🎹\")\n",
        "\n",
        "# Function that accepts any Instrument\n",
        "def start_music(instrument):\n",
        "    instrument.play()\n",
        "\n",
        "# Example usage\n",
        "instruments = [Guitar(), Piano()]\n",
        "\n",
        "for instr in instruments:\n",
        "    start_music(instr)\n"
      ],
      "metadata": {
        "colab": {
          "base_uri": "https://localhost:8080/"
        },
        "id": "nRuCg-48gmaW",
        "outputId": "f1a918e6-1bb1-488b-910e-1e6c71d223bd"
      },
      "execution_count": null,
      "outputs": [
        {
          "output_type": "stream",
          "name": "stdout",
          "text": [
            "Strumming the guitar... 🎸\n",
            "Playing the piano... 🎹\n"
          ]
        }
      ]
    },
    {
      "cell_type": "code",
      "source": [
        "# Create a class MathOperations with a class method add_numbers() to add two numbers and a static method subtract_numbers() to subtract two numbers.\n",
        "\n",
        "class MathOperations:\n",
        "\n",
        "    # Class method\n",
        "    @classmethod\n",
        "    def add_numbers(cls, a, b):\n",
        "        return a + b\n",
        "\n",
        "    # Static method\n",
        "    @staticmethod\n",
        "    def subtract_numbers(a, b):\n",
        "        return a - b\n",
        "\n",
        "# Example usage\n",
        "print(\"Addition:\", MathOperations.add_numbers(11, 5))\n",
        "print(\"Subtraction:\", MathOperations.subtract_numbers(11, 5))\n"
      ],
      "metadata": {
        "colab": {
          "base_uri": "https://localhost:8080/"
        },
        "id": "gAo9lkQYhqKV",
        "outputId": "72f15af6-72e2-4351-8ba4-1168d95a3f9f"
      },
      "execution_count": null,
      "outputs": [
        {
          "output_type": "stream",
          "name": "stdout",
          "text": [
            "Addition: 16\n",
            "Subtraction: 6\n"
          ]
        }
      ]
    },
    {
      "cell_type": "code",
      "source": [
        "# Implement a class Person with a class method to count the total number of persons created.\n",
        "\n",
        "class Person:\n",
        "    # Class variable to keep count\n",
        "    count = 0\n",
        "\n",
        "    def __init__(self, name):\n",
        "        self.name = name\n",
        "        Person.count += 1  # Increment every time a new person is created\n",
        "\n",
        "    @classmethod\n",
        "    def get_total_persons(cls):\n",
        "        return cls.count\n",
        "\n",
        "# Example usage\n",
        "p1 = Person(\"Aarav\")\n",
        "p2 = Person(\"Diya\")\n",
        "p3 = Person(\"Sanjana\")\n",
        "\n",
        "print(\"Total persons created:\", Person.get_total_persons())  # Output: 3\n"
      ],
      "metadata": {
        "colab": {
          "base_uri": "https://localhost:8080/"
        },
        "id": "s6bAmjxYhqNG",
        "outputId": "d45483a1-50ae-4dac-ade2-9c5ef822eeeb"
      },
      "execution_count": null,
      "outputs": [
        {
          "output_type": "stream",
          "name": "stdout",
          "text": [
            "Total persons created: 3\n"
          ]
        }
      ]
    },
    {
      "cell_type": "code",
      "source": [
        "# Write a class Fraction with attributes numerator and denominator. Override the str method to display the fraction as \"numerator/denominator\".\n",
        "\n",
        "class Fraction:\n",
        "    def __init__(self, numerator, denominator):\n",
        "        self.numerator = numerator\n",
        "        self.denominator = denominator\n",
        "\n",
        "    def __str__(self):\n",
        "        return f\"{self.numerator}/{self.denominator}\"\n",
        "\n",
        "# Example usage\n",
        "f1 = Fraction(3, 4)\n",
        "f2 = Fraction(5, 8)\n",
        "\n",
        "print(\"First Fraction:\", f1)\n",
        "print(\"Second Fraction:\", f2)\n"
      ],
      "metadata": {
        "colab": {
          "base_uri": "https://localhost:8080/"
        },
        "id": "6xnkpiG3hqQG",
        "outputId": "d8f61994-de66-4cc6-c98d-34198eb8b2a4"
      },
      "execution_count": null,
      "outputs": [
        {
          "output_type": "stream",
          "name": "stdout",
          "text": [
            "First Fraction: 3/4\n",
            "Second Fraction: 5/8\n"
          ]
        }
      ]
    },
    {
      "cell_type": "code",
      "source": [
        "# Demonstrate operator overloading by creating a class Vector and overriding the add method to add two vectors\n",
        "class Vector:\n",
        "    def __init__(self, x, y):\n",
        "        self.x = x\n",
        "        self.y = y\n",
        "\n",
        "    # Overloading the + operator\n",
        "    def __add__(self, other):\n",
        "        return Vector(self.x + other.x, self.y + other.y)\n",
        "\n",
        "    def __str__(self):\n",
        "        return f\"({self.x}, {self.y})\"\n",
        "\n",
        "# Example usage\n",
        "v1 = Vector(2, 3)\n",
        "v2 = Vector(4, 5)\n",
        "v3 = v1 + v2\n",
        "\n",
        "print(\"Vector 1:\", v1)\n",
        "print(\"Vector 2:\", v2)\n",
        "print(\"Sum:\", v3)\n",
        "\n"
      ],
      "metadata": {
        "colab": {
          "base_uri": "https://localhost:8080/"
        },
        "id": "NoWbk-RdhqSV",
        "outputId": "e944ccd0-448d-451b-9198-b20a4aae92d1"
      },
      "execution_count": null,
      "outputs": [
        {
          "output_type": "stream",
          "name": "stdout",
          "text": [
            "Vector 1: (2, 3)\n",
            "Vector 2: (4, 5)\n",
            "Sum: (6, 8)\n"
          ]
        }
      ]
    },
    {
      "cell_type": "code",
      "source": [
        "#Create a class Person with attributes name and age. Add a method greet() that prints \"Hello, my name is {name} and I am {age} years old.\n",
        "\n",
        "class Person:\n",
        "    def __init__(self, name, age=23):\n",
        "        self.name = name\n",
        "        self.age = age\n",
        "\n",
        "    def greet(self):\n",
        "        print(f\"Hello, my name is {self.name} and I am {self.age} years old.\")\n",
        "\n",
        "# Example usage\n",
        "p1 = Person(\"Sanjana\")  # default age is now 23\n",
        "p1.greet()"
      ],
      "metadata": {
        "colab": {
          "base_uri": "https://localhost:8080/"
        },
        "id": "6ftuHu32hqUm",
        "outputId": "23905ad9-c3c5-481e-8857-d258c3a86874"
      },
      "execution_count": null,
      "outputs": [
        {
          "output_type": "stream",
          "name": "stdout",
          "text": [
            "Hello, my name is Sanjana and I am 23 years old.\n"
          ]
        }
      ]
    },
    {
      "cell_type": "code",
      "source": [
        "# Implement a class Student with attributes name and grades. Create a method average_grade() to compute the average of the grades.\n",
        "class Student:\n",
        "    def __init__(self, name, grades):\n",
        "        self.name = name\n",
        "        self.grades = grades  # A list of grades\n",
        "\n",
        "    def average_grade(self):\n",
        "        if not self.grades:\n",
        "            return 0\n",
        "        return sum(self.grades) / len(self.grades)\n",
        "\n",
        "# Example usage\n",
        "s1 = Student(\"Sanjana\", [89, 92, 79, 85, 90])\n",
        "average = s1.average_grade()\n",
        "\n",
        "print(f\"{s1.name}'s average grade is: {average:.2f}\")\n"
      ],
      "metadata": {
        "colab": {
          "base_uri": "https://localhost:8080/"
        },
        "id": "HAjZgQWEhqXE",
        "outputId": "3e7aca0b-c7fc-48b9-d94c-1f65fb55c33d"
      },
      "execution_count": null,
      "outputs": [
        {
          "output_type": "stream",
          "name": "stdout",
          "text": [
            "Sanjana's average grade is: 87.00\n"
          ]
        }
      ]
    },
    {
      "cell_type": "code",
      "source": [
        "# Create a class Rectangle with methods set_dimensions() to set the dimensions and area() to calculate the area.\n",
        "\n",
        "class Rectangle:\n",
        "    def __init__(self):\n",
        "        self.length = 0\n",
        "        self.width = 0\n",
        "\n",
        "    def set_dimensions(self, length, width):\n",
        "        self.length = length\n",
        "        self.width = width\n",
        "\n",
        "    def area(self):\n",
        "        return self.length * self.width\n",
        "\n",
        "# Example usage\n",
        "r1 = Rectangle()\n",
        "r1.set_dimensions(5, 8)\n",
        "print(\"Area of the rectangle is:\", r1.area())\n"
      ],
      "metadata": {
        "colab": {
          "base_uri": "https://localhost:8080/"
        },
        "id": "MUdcN2JShqZN",
        "outputId": "ec07dfc1-41bc-4732-d424-f2febde95766"
      },
      "execution_count": null,
      "outputs": [
        {
          "output_type": "stream",
          "name": "stdout",
          "text": [
            "Area of the rectangle is: 40\n"
          ]
        }
      ]
    },
    {
      "cell_type": "code",
      "source": [
        "# Create a class Employee with a method calculate_salary() that computes the salary based on hours worked and hourly rate. Create a derived class Manager that adds a bonus to the salary.\n",
        "\n",
        "# Base class\n",
        "class Employee:\n",
        "    def __init__(self, name, hours_worked, hourly_rate):\n",
        "        self.name = name\n",
        "        self.hours_worked = hours_worked\n",
        "        self.hourly_rate = hourly_rate\n",
        "\n",
        "    def calculate_salary(self):\n",
        "        return self.hours_worked * self.hourly_rate\n",
        "\n",
        "# Derived class\n",
        "class Manager(Employee):\n",
        "    def __init__(self, name, hours_worked, hourly_rate, bonus):\n",
        "        super().__init__(name, hours_worked, hourly_rate)\n",
        "        self.bonus = bonus\n",
        "\n",
        "    def calculate_salary(self):\n",
        "        base_salary = super().calculate_salary()\n",
        "        return base_salary + self.bonus\n",
        "\n",
        "# Example usage\n",
        "emp1 = Employee(\"Ayaan\", 40, 150)\n",
        "mgr1 = Manager(\"Sanjana\", 40, 150, 5000)\n",
        "\n",
        "print(f\"{emp1.name}'s salary is: ₹{emp1.calculate_salary()}\")\n",
        "print(f\"{mgr1.name}'s salary (with bonus) is: ₹{mgr1.calculate_salary()}\")\n",
        "\n"
      ],
      "metadata": {
        "colab": {
          "base_uri": "https://localhost:8080/"
        },
        "id": "gG8YPEsshqbW",
        "outputId": "e8f5c15c-a716-40dd-a2e9-0431b2144e44"
      },
      "execution_count": null,
      "outputs": [
        {
          "output_type": "stream",
          "name": "stdout",
          "text": [
            "Ayaan's salary is: ₹6000\n",
            "Sanjana's salary (with bonus) is: ₹11000\n"
          ]
        }
      ]
    },
    {
      "cell_type": "code",
      "source": [
        "# Create a class Product with attributes name, price, and quantity. Implement a method total_price() that calculates the total price of the product\n",
        "\n",
        "class Product:\n",
        "    def __init__(self, name, price, quantity):\n",
        "        self.name = name\n",
        "        self.price = price\n",
        "        self.quantity = quantity\n",
        "\n",
        "    def total_price(self):\n",
        "        return self.price * self.quantity\n",
        "\n",
        "# Example usage\n",
        "p1 = Product(\"Lip Balm\", 99, 3)\n",
        "print(f\"Total price for {p1.quantity} {p1.name}(s): ₹{p1.total_price()}\")\n",
        "\n"
      ],
      "metadata": {
        "colab": {
          "base_uri": "https://localhost:8080/"
        },
        "id": "4HERFQgckYD9",
        "outputId": "aaa9a086-77a8-4f08-aa66-e806a21f5e7d"
      },
      "execution_count": null,
      "outputs": [
        {
          "output_type": "stream",
          "name": "stdout",
          "text": [
            "Total price for 3 Lip Balm(s): ₹297\n"
          ]
        }
      ]
    },
    {
      "cell_type": "code",
      "source": [
        "#Create a class Animal with an abstract method sound(). Create two derived classes Cow and Sheep that implement the sound() method.\n",
        "\n",
        "from abc import ABC, abstractmethod\n",
        "\n",
        "# Abstract base class\n",
        "class Animal(ABC):\n",
        "    @abstractmethod\n",
        "    def sound(self):\n",
        "        pass\n",
        "\n",
        "# Derived class: Cow\n",
        "class Cow(Animal):\n",
        "    def sound(self):\n",
        "        return \"Moo 🐄\"\n",
        "\n",
        "# Derived class: Sheep\n",
        "class Sheep(Animal):\n",
        "    def sound(self):\n",
        "        return \"Baa 🐑\"\n",
        "\n",
        "# Example usage\n",
        "cow = Cow()\n",
        "sheep = Sheep()\n",
        "\n",
        "print(\"Cow says:\", cow.sound())\n",
        "print(\"Sheep says:\", sheep.sound())\n"
      ],
      "metadata": {
        "colab": {
          "base_uri": "https://localhost:8080/"
        },
        "id": "gAmggBPKkYHZ",
        "outputId": "03932d62-c0da-45db-b705-2a5e5d109e8e"
      },
      "execution_count": null,
      "outputs": [
        {
          "output_type": "stream",
          "name": "stdout",
          "text": [
            "Cow says: Moo 🐄\n",
            "Sheep says: Baa 🐑\n"
          ]
        }
      ]
    },
    {
      "cell_type": "code",
      "source": [
        "# Create a class Book with attributes title, author, and year_published. Add a method get_book_info() that returns a formatted string with the book's details\n",
        "\n",
        "class Book:\n",
        "    def __init__(self, title, author, year_published):\n",
        "        self.title = title\n",
        "        self.author = author\n",
        "        self.year_published = year_published\n",
        "\n",
        "    def get_book_info(self):\n",
        "        return f\"📚 '{self.title}' by {self.author}, published in {self.year_published}.\"\n",
        "\n",
        "# Example usage\n",
        "book1 = Book(\"The Alchemist\", \"Paulo Coelho\", 1988)\n",
        "print(book1.get_book_info())\n"
      ],
      "metadata": {
        "colab": {
          "base_uri": "https://localhost:8080/"
        },
        "id": "FURgyI80kYNK",
        "outputId": "a0b74651-aeb3-4d93-b0ed-e0f2245ca31c"
      },
      "execution_count": null,
      "outputs": [
        {
          "output_type": "stream",
          "name": "stdout",
          "text": [
            "📚 'The Alchemist' by Paulo Coelho, published in 1988.\n"
          ]
        }
      ]
    },
    {
      "cell_type": "code",
      "source": [
        "#Create a class House with attributes address and price. Create a derived class Mansion that adds an attribute number_of_rooms.\n",
        "# Base class\n",
        "class House:\n",
        "    def __init__(self, address, price):\n",
        "        self.address = address\n",
        "        self.price = price\n",
        "\n",
        "# Derived class\n",
        "class Mansion(House):\n",
        "    def __init__(self, address, price, number_of_rooms):\n",
        "        super().__init__(address, price)\n",
        "        self.number_of_rooms = number_of_rooms\n",
        "\n",
        "    def get_info(self):\n",
        "        return (f\"🏡 Mansion at {self.address} costs ₹{self.price} \"\n",
        "                f\"and has {self.number_of_rooms} rooms.\")\n",
        "\n",
        "# Example usage\n",
        "my_mansion = Mansion(\"Rosewood Avenue, Dream City\", 50000000, 12)\n",
        "print(my_mansion.get_info())\n",
        "\n"
      ],
      "metadata": {
        "colab": {
          "base_uri": "https://localhost:8080/"
        },
        "id": "g_fBWi7RkYPh",
        "outputId": "b264c0df-21bc-44ee-f86d-efc328336e5d"
      },
      "execution_count": null,
      "outputs": [
        {
          "output_type": "stream",
          "name": "stdout",
          "text": [
            "🏡 Mansion at Rosewood Avenue, Dream City costs ₹50000000 and has 12 rooms.\n"
          ]
        }
      ]
    },
    {
      "cell_type": "code",
      "source": [
        "'''What is Object-Oriented Programming (OOP)+ short answer\n",
        "\n",
        "Object-Oriented Programming (OOP) is a programming paradigm based on the concept of \"objects\", which are instances of classes. These objects can contain data (attributes) and methods (functions) that operate on the data.\n",
        "\n",
        "The four main principles of OOP are:\n",
        "\n",
        "Encapsulation – bundling data and methods together.\n",
        "\n",
        "Abstraction – hiding complex details and showing only essentials.\n",
        "\n",
        "Inheritance – one class can inherit features from another.\n",
        "\n",
        "Polymorphism – methods can behave differently based on the object.'''"
      ],
      "metadata": {
        "id": "MOKV5RYelM6g"
      },
      "execution_count": null,
      "outputs": []
    },
    {
      "cell_type": "code",
      "source": [
        "#What is a class in OOP\n",
        "'''A class in Object-Oriented Programming (OOP) is like a blueprint or template for creating objects.\n",
        "\n",
        "It defines the attributes (data) and methods (functions) that the objects created from the class will have.'''\n",
        "\n",
        "\n",
        "class Car:\n",
        "    def __init__(self, brand, color):\n",
        "        self.brand = brand\n",
        "        self.color = color\n",
        "\n",
        "    def drive(self):\n",
        "        print(f\"The {self.color} {self.brand} car is driving.\")"
      ],
      "metadata": {
        "id": "y3eWmGBFlM-B"
      },
      "execution_count": 1,
      "outputs": []
    },
    {
      "cell_type": "code",
      "source": [
        "#What is an object in OOP\n",
        "#An object in Object-Oriented Programming (OOP) is an instance of a class. It represents a real-world entity with its own data (attributes) and behavior (methods), based on the class it was created from.\n",
        "\n",
        "class Car:\n",
        "    def __init__(self, brand, color):\n",
        "        self.brand = brand\n",
        "        self.color = color\n",
        "\n",
        "    def drive(self):\n",
        "        print(f\"The {self.color} {self.brand} car is driving.\")\n",
        "\n",
        "# Creating an object\n",
        "my_car = Car(\"Toyota\", \"Red\")\n",
        "my_car.drive()"
      ],
      "metadata": {
        "id": "5UVrVW2nlNBB",
        "colab": {
          "base_uri": "https://localhost:8080/"
        },
        "outputId": "a0d9f0db-6efa-45f2-ec95-21fc3e3a62c7"
      },
      "execution_count": 2,
      "outputs": [
        {
          "output_type": "stream",
          "name": "stdout",
          "text": [
            "The Red Toyota car is driving.\n"
          ]
        }
      ]
    },
    {
      "cell_type": "code",
      "source": [
        "#What is the difference between abstraction and encapsulation\n",
        "'''In Object-Oriented Programming, abstraction and encapsulation are two fundamental concepts that often work together but serve different purposes. Abstraction is all about hiding unnecessary details and showing only the essential features of an object—just like how you use a mobile phone without needing to know how its internal circuits work. It helps reduce complexity by focusing only on what’s relevant. On the other hand, encapsulation is about wrapping the data (variables) and the code (methods) together into a single unit (like a class), and restricting direct access to some of the object's components, which helps protect the integrity of the data. You can think of it as placing data in a protective capsule, only exposing what’s safe through controlled access. While abstraction is used to design a clean and simple interface, encapsulation is used to secure the data and enforce rules for its use.'''"
      ],
      "metadata": {
        "id": "U7xO1qQKlND-"
      },
      "execution_count": null,
      "outputs": []
    },
    {
      "cell_type": "code",
      "source": [
        "#What are dunder methods in Python\n",
        "'''Dunder methods (short for \"double underscore\" methods) are special methods in Python that have double underscores before and after their names—like __init__, __str__, __len__, etc. They’re also called magic methods because Python uses them automatically for certain behaviors.'''\n",
        "\n",
        "class Book:\n",
        "    def __init__(self, title):\n",
        "        self.title = title\n",
        "\n",
        "    def __str__(self):\n",
        "        return f\"Book: {self.title}\"\n",
        "\n",
        "# Creating an object\n",
        "b = Book(\"Love in Code\")\n",
        "print(b)  # Calls the __str__ method automatically\n"
      ],
      "metadata": {
        "id": "h7MvCrG_lNJE",
        "colab": {
          "base_uri": "https://localhost:8080/"
        },
        "outputId": "3d794e8f-3f7e-4af4-8eb0-4d0cb70eebc1"
      },
      "execution_count": 3,
      "outputs": [
        {
          "output_type": "stream",
          "name": "stdout",
          "text": [
            "Book: Love in Code\n"
          ]
        }
      ]
    },
    {
      "cell_type": "code",
      "source": [
        "# Explain the concept of inheritance in OOPH\n",
        "\n",
        "'''Inheritance is a powerful feature in OOP that allows a class (called the child or subclass) to inherit properties and behaviors (attributes and methods) from another class (called the parent or superclass).\n",
        "\n",
        "It helps promote code reusability and makes your programs easier to maintain and extend.'''\n",
        "class Animal:\n",
        "    def speak(self):\n",
        "        print(\"This animal makes a sound.\")\n",
        "\n",
        "class Dog(Animal):\n",
        "    def bark(self):\n",
        "        print(\"The dog barks.\")\n",
        "\n",
        "my_dog = Dog()\n",
        "my_dog.speak()\n",
        "my_dog.bark()\n",
        "\n"
      ],
      "metadata": {
        "colab": {
          "base_uri": "https://localhost:8080/"
        },
        "id": "ADMPTX8gmPBO",
        "outputId": "bbd99cfd-1827-4a69-b2d2-371716ea967f"
      },
      "execution_count": 4,
      "outputs": [
        {
          "output_type": "stream",
          "name": "stdout",
          "text": [
            "This animal makes a sound.\n",
            "The dog barks.\n"
          ]
        }
      ]
    },
    {
      "cell_type": "code",
      "source": [
        "#What is polymorphism in OOP\n",
        "'''\n",
        "Polymorphism means \"many forms.\" In Object-Oriented Programming, it allows the same method or function to behave differently based on the object it's acting on.\n",
        "\n",
        "It’s like calling the same word—“sing”—but depending on who is singing (a bird, a human, or a robot), the sound is different.'''\n",
        "\n",
        "class Bird:\n",
        "    def speak(self):\n",
        "        print(\"Chirp chirp!\")\n",
        "\n",
        "class Dog:\n",
        "    def speak(self):\n",
        "        print(\"Woof woof!\")\n",
        "\n",
        "# Function that uses polymorphism\n",
        "def animal_sound(animal):\n",
        "    animal.speak()\n",
        "\n",
        "# Using different objects\n",
        "animal_sound(Bird())  # Output: Chirp chirp!\n",
        "animal_sound(Dog())   # Output: Woof woof!\n",
        "\n",
        "\n"
      ],
      "metadata": {
        "colab": {
          "base_uri": "https://localhost:8080/"
        },
        "id": "lBYDzwTqmPD-",
        "outputId": "cd76aa6f-c21a-42ee-a0c1-e7a603285379"
      },
      "execution_count": 5,
      "outputs": [
        {
          "output_type": "stream",
          "name": "stdout",
          "text": [
            "Chirp chirp!\n",
            "Woof woof!\n"
          ]
        }
      ]
    },
    {
      "cell_type": "code",
      "source": [
        "#How is encapsulation achieved in Python\n",
        "\n",
        "'''Encapsulation in Python – Theory\n",
        "Encapsulation is one of the fundamental principles of Object-Oriented Programming (OOP). It refers to the bundling of data and methods that operate on that data within a single unit (class) and the restriction of direct access to some of the object's components. This ensures that the internal representation of an object is hidden from the outside and can only be accessed or modified through well-defined interfaces.\n",
        "\n",
        "In Python, encapsulation is achieved using access modifiers:\n",
        "\n",
        "Public Members:\n",
        "\n",
        "Accessible from anywhere.\n",
        "\n",
        "Defined normally (e.g., self.name).\n",
        "\n",
        "Protected Members:\n",
        "\n",
        "Indicated by a single underscore (_).\n",
        "\n",
        "Intended for internal use only, but still accessible from outside.\n",
        "\n",
        "Private Members:\n",
        "\n",
        "Indicated by double underscores (__).\n",
        "\n",
        "Python internally changes the name of these variables (name mangling) to prevent accidental access, making them harder to access directly from outside the class.'''\n",
        "class Student:\n",
        "    def __init__(self):\n",
        "        self.__name = \"Sanjana\"  # private attribute\n",
        "\n",
        "    def get_name(self):         # getter method\n",
        "        return self.__name\n",
        "\n",
        "    def set_name(self, name):   # setter method\n",
        "        self.__name = name\n",
        "\n"
      ],
      "metadata": {
        "id": "KUF5eSAhmPI-"
      },
      "execution_count": 6,
      "outputs": []
    },
    {
      "cell_type": "code",
      "source": [
        "#What is a constructor in Python\n",
        "\n",
        "'''\n",
        "In Python, a constructor is a special method used to initialize the attributes of an object when it is created. It is defined using the __init__() method inside a class. This method is automatically called when a new instance of the class is created.\n",
        "\n",
        "Key Points:\n",
        "The constructor method is always named __init__.\n",
        "\n",
        "It takes at least one argument, which is typically self, representing the instance of the class.\n",
        "\n",
        "Additional arguments can be passed to initialize specific attributes of the class.'''\n"
      ],
      "metadata": {
        "id": "TFYDsSs0mPNw"
      },
      "execution_count": null,
      "outputs": []
    },
    {
      "cell_type": "code",
      "source": [
        "#What are class and static methods in Python\n",
        "\n",
        "'''In Python, both class methods and static methods are used to define methods that are bound to the class rather than to instances of the class. However, they have distinct purposes and behaviors.\n",
        "\n",
        "1. Class Methods\n",
        "A class method is a method that is bound to the class and not the instance. It takes at least one argument, which is usually cls (representing the class), instead of self (representing the instance).\n",
        "\n",
        "Class methods are defined using the @classmethod decorator and can modify the class state that applies to all instances of the class.\n",
        "\n",
        "Key Points:\n",
        "Defined using @classmethod.\n",
        "\n",
        "Takes cls as the first argument.\n",
        "\n",
        "Can modify class-level attributes but not instance-level attributes.'''\n",
        "\n"
      ],
      "metadata": {
        "id": "eTRLDA9lnVXE"
      },
      "execution_count": null,
      "outputs": []
    },
    {
      "cell_type": "code",
      "source": [
        "#What is method overloading in Python\n",
        "\n",
        "'''In Python, method overloading refers to the ability to define multiple methods with the same name, but with different parameters. However, Python does not support traditional method overloading (like in languages such as Java or C++), where you can define multiple methods with the same name but different argument types or numbers.\n",
        "\n",
        "In Python, if you define a method with the same name multiple times within the same class, the last defined method will overwrite the previous ones. So, instead of method overloading, Python achieves similar functionality using default arguments, variable-length arguments, or by checking the types or number of arguments within a single method.\n",
        "\n",
        "Ways to Achieve Method Overloading in Python\n",
        "Using Default Arguments You can specify default values for arguments, allowing a method to be called with different numbers of arguments.'''\n",
        "\n",
        "class MathOperations:\n",
        "    def add(self, a, b=0, c=0):\n",
        "        return a + b + c\n",
        "\n",
        "obj = MathOperations()\n",
        "print(obj.add(5))         # Output: 5 (5 + 0 + 0)\n",
        "print(obj.add(5, 3))      # Output: 8 (5 + 3 + 0)\n",
        "print(obj.add(5, 3, 2))   # Output: 10 (5 + 3 + 2)\n",
        "\n"
      ],
      "metadata": {
        "colab": {
          "base_uri": "https://localhost:8080/"
        },
        "id": "3x2MfRrxnVbm",
        "outputId": "3a771611-8d4d-48a5-d391-21160c8e814a"
      },
      "execution_count": 7,
      "outputs": [
        {
          "output_type": "stream",
          "name": "stdout",
          "text": [
            "5\n",
            "8\n",
            "10\n"
          ]
        }
      ]
    },
    {
      "cell_type": "code",
      "source": [
        "'''Using Variable-Length Arguments (Arbitrary Arguments) You can use *args or **kwargs to accept a variable number of arguments. This allows for more flexible method calls, enabling the function to handle different numbers of arguments.\n",
        "\n",
        "*args allows passing a variable number of positional arguments (as a tuple).\n",
        "\n",
        "**kwargs allows passing a variable number of keyword arguments (as a dictionary).'''\n",
        "\n",
        "class MathOperations:\n",
        "    def add(self, *args):\n",
        "        return sum(args)\n",
        "\n",
        "obj = MathOperations()\n",
        "print(obj.add(5))         # Output: 5\n",
        "print(obj.add(5, 3))      # Output: 8\n",
        "print(obj.add(5, 3, 2))   # Output: 10\n",
        "print(obj.add(1, 2, 3, 4))  # Output: 10\n"
      ],
      "metadata": {
        "colab": {
          "base_uri": "https://localhost:8080/"
        },
        "id": "hGCPmEZrnVeU",
        "outputId": "782adce3-7178-4298-acc8-2b63dda22a20"
      },
      "execution_count": 8,
      "outputs": [
        {
          "output_type": "stream",
          "name": "stdout",
          "text": [
            "5\n",
            "8\n",
            "10\n",
            "10\n"
          ]
        }
      ]
    },
    {
      "cell_type": "code",
      "source": [
        "'''Using Type Checking You can manually check the types of arguments inside the method and perform different actions based on the types or number of arguments passed.'''\n",
        "\n",
        "class MathOperations:\n",
        "    def add(self, *args):\n",
        "        if len(args) == 1:\n",
        "            return args[0] * 2  # Double the value if one argument\n",
        "        elif len(args) == 2:\n",
        "            return args[0] + args[1]  # Add if two arguments\n",
        "        elif len(args) == 3:\n",
        "            return args[0] + args[1] + args[2]  # Add three arguments\n",
        "        else:\n",
        "            return \"Invalid number of arguments\"\n",
        "\n",
        "obj = MathOperations()\n",
        "print(obj.add(5))        # Output: 10 (Double the value)\n",
        "print(obj.add(5, 3))     # Output: 8 (Sum of two numbers)\n",
        "print(obj.add(5, 3, 2))  # Output: 10 (Sum of three numbers)\n",
        "print(obj.add(1, 2, 3, 4))  # Output: Invalid number of arguments\n"
      ],
      "metadata": {
        "colab": {
          "base_uri": "https://localhost:8080/"
        },
        "id": "xOFEfG2QoSYk",
        "outputId": "2eda8942-25ff-4d5e-f079-237c0cb0f68a"
      },
      "execution_count": 9,
      "outputs": [
        {
          "output_type": "stream",
          "name": "stdout",
          "text": [
            "10\n",
            "8\n",
            "10\n",
            "Invalid number of arguments\n"
          ]
        }
      ]
    },
    {
      "cell_type": "code",
      "source": [
        "#What is method overriding in OOP\n",
        "\n",
        "'''Method overriding is a concept in Object-Oriented Programming (OOP) where a subclass provides its own implementation of a method that is already defined in its superclass. The subclass method \"overrides\" the method of the parent class, meaning it has the same name, same parameters, and does a different task than the original method in the parent class.\n",
        "\n",
        "Key Points about Method Overriding:\n",
        "Same method signature: The method name, parameters, and return type must be the same in both the parent class and the subclass.\n",
        "\n",
        "Behavior change: The subclass version of the method provides a new behavior, potentially altering or enhancing the functionality from the parent class.\n",
        "\n",
        "Use of super(): Inside the overridden method, you can call the parent class's method using super() if you need to retain the functionality of the parent class along with the new behavior.\n",
        "\n",
        "Why Use Method Overriding?\n",
        "It allows subclasses to customize or extend the behavior of methods defined in the superclass.\n",
        "\n",
        "It is fundamental to achieving polymorphism, where a method behaves differently depending on the object calling it (i.e., the actual subclass type).'''\n",
        "\n",
        "# Parent class\n",
        "class Animal:\n",
        "    def sound(self):\n",
        "        print(\"Some generic animal sound\")\n",
        "\n",
        "# Subclass\n",
        "class Dog(Animal):\n",
        "    def sound(self):\n",
        "        print(\"Bark\")\n",
        "\n",
        "# Subclass\n",
        "class Cat(Animal):\n",
        "    def sound(self):\n",
        "        print(\"Meow\")\n",
        "\n",
        "# Creating objects\n",
        "animal = Animal()\n",
        "dog = Dog()\n",
        "cat = Cat()\n",
        "\n",
        "# Calling overridden methods\n",
        "animal.sound()  # Output: Some generic animal sound\n",
        "dog.sound()     # Output: Bark\n",
        "cat.sound()     # Output: Meow\n"
      ],
      "metadata": {
        "colab": {
          "base_uri": "https://localhost:8080/"
        },
        "id": "z4wU5hG7oSbV",
        "outputId": "a7cd6aba-f13d-4a9c-cd7a-236e5b99a220"
      },
      "execution_count": 10,
      "outputs": [
        {
          "output_type": "stream",
          "name": "stdout",
          "text": [
            "Some generic animal sound\n",
            "Bark\n",
            "Meow\n"
          ]
        }
      ]
    },
    {
      "cell_type": "code",
      "source": [
        "'''Using super() to Call Parent Method:\n",
        "Sometimes, you may want to call the parent class's method inside the subclass method to extend its functionality. This can be done using the super() function.'''\n",
        "\n",
        "# Parent class\n",
        "class Animal:\n",
        "    def sound(self):\n",
        "        print(\"Some generic animal sound\")\n",
        "\n",
        "# Subclass\n",
        "class Dog(Animal):\n",
        "    def sound(self):\n",
        "        super().sound()  # Calling the parent class's sound method\n",
        "        print(\"Bark\")\n",
        "\n",
        "# Creating an object\n",
        "dog = Dog()\n",
        "dog.sound()\n"
      ],
      "metadata": {
        "colab": {
          "base_uri": "https://localhost:8080/"
        },
        "id": "sM8y70fboSgL",
        "outputId": "70daeb01-e3b0-4a4a-955d-05697ec34222"
      },
      "execution_count": 11,
      "outputs": [
        {
          "output_type": "stream",
          "name": "stdout",
          "text": [
            "Some generic animal sound\n",
            "Bark\n"
          ]
        }
      ]
    },
    {
      "cell_type": "code",
      "source": [
        "#What is a property decorator in Python\n",
        "\n",
        "'''Python, the property decorator is used to define methods that act like attributes. This allows you to define methods that can be accessed like attributes but also have additional logic or computation behind them. Essentially, it provides a way to manage the access to an attribute by allowing for getter, setter, and deleter methods, but without directly exposing those methods to the user.\n",
        "\n",
        "The property decorator allows you to define a method that can be accessed as if it were an attribute, and you can also control what happens when the attribute is accessed, modified, or deleted.'''\n",
        "\n",
        "class Circle:\n",
        "    def __init__(self, radius):\n",
        "        self._radius = radius  # Using _radius to store the actual value\n",
        "\n",
        "    @property\n",
        "    def radius(self):\n",
        "        return self._radius\n",
        "\n",
        "    @radius.setter\n",
        "    def radius(self, value):\n",
        "        if value < 0:\n",
        "            print(\"Radius cannot be negative.\")\n",
        "        else:\n",
        "            self._radius = value\n",
        "\n",
        "    @property\n",
        "    def area(self):\n",
        "        return 3.14 * (self._radius ** 2)\n",
        "\n",
        "# Create a Circle object\n",
        "circle = Circle(5)\n",
        "\n",
        "# Accessing the radius and area using the property methods\n",
        "print(circle.radius)  # Output: 5\n",
        "print(circle.area)    # Output: 78.5\n",
        "\n",
        "# Trying to set a negative radius\n",
        "circle.radius = -3  # Output: Radius cannot be negative.\n",
        "print(circle.radius)  # Output: 5 (radius was not changed)\n",
        "\n"
      ],
      "metadata": {
        "colab": {
          "base_uri": "https://localhost:8080/"
        },
        "id": "kDUmty6hoSi0",
        "outputId": "8cb8d0e5-1e8b-4b49-c4e5-d1a536db607e"
      },
      "execution_count": 13,
      "outputs": [
        {
          "output_type": "stream",
          "name": "stdout",
          "text": [
            "5\n",
            "78.5\n",
            "Radius cannot be negative.\n",
            "5\n"
          ]
        }
      ]
    },
    {
      "cell_type": "code",
      "source": [
        "#Why is polymorphism important in OOP\n",
        "\n",
        "'''Polymorphism is one of the fundamental principles of Object-Oriented Programming (OOP), and it plays a crucial role in making software design more flexible, scalable, and maintainable. The term \"polymorphism\" comes from Greek words meaning \"many forms,\" and in OOP, it refers to the ability of different classes to respond to the same method or operation in a way that's specific to their own type.\n",
        "\n",
        "Why is Polymorphism Important in OOP?\n",
        "Code Reusability and Extensibility: Polymorphism allows you to use the same method name across different classes, making your code reusable and easier to extend. Instead of writing separate methods for each class type, you can define a single method that works with multiple objects, reducing redundancy and improving maintainability.\n",
        "\n",
        "For example, you can define a general draw() method for different shapes (like Circle, Rectangle, etc.), and each shape can implement it in its own way.'''\n",
        "\n",
        "class Shape:\n",
        "    def draw(self):\n",
        "        raise NotImplementedError(\"Subclass must implement this method\")\n",
        "\n",
        "class Circle(Shape):\n",
        "    def draw(self):\n",
        "        print(\"Drawing a Circle\")\n",
        "\n",
        "class Rectangle(Shape):\n",
        "    def draw(self):\n",
        "        print(\"Drawing a Rectangle\")\n",
        "\n",
        "shapes = [Circle(), Rectangle()]\n",
        "for shape in shapes:\n",
        "    shape.draw()  # Each object draws itself\n"
      ],
      "metadata": {
        "colab": {
          "base_uri": "https://localhost:8080/"
        },
        "id": "Flv-F1WxpK1c",
        "outputId": "7c08de18-eb8c-4eb1-e8ab-6f63b380d39e"
      },
      "execution_count": 14,
      "outputs": [
        {
          "output_type": "stream",
          "name": "stdout",
          "text": [
            "Drawing a Circle\n",
            "Drawing a Rectangle\n"
          ]
        }
      ]
    },
    {
      "cell_type": "code",
      "source": [
        "# What is an abstract class in Python\n",
        "\n",
        "'''An abstract class in Python is a class that cannot be instantiated directly and is meant to serve as a blueprint for other classes. Abstract classes are defined using the abc module (Abstract Base Class). They allow you to define a common interface for subclasses while leaving some methods to be implemented by those subclasses.\n",
        "\n",
        "Why Use Abstract Classes?\n",
        "Enforce a consistent interface: Abstract classes allow you to define a common set of methods that must be implemented in any subclass, ensuring that the subclasses adhere to a specific contract or interface.\n",
        "\n",
        "Prevent direct instantiation: Abstract classes prevent the creation of objects from the class itself. This ensures that the class is only used as a base class for inheritance.\n",
        "\n",
        "Provide default behavior: You can define some methods in the abstract class that can be inherited directly by subclasses, while leaving others as abstract methods for the subclasses to implement.'''\n",
        "\n",
        "from abc import ABC, abstractmethod\n",
        "\n",
        "# Abstract Class\n",
        "class Animal(ABC):\n",
        "\n",
        "    @abstractmethod\n",
        "    def sound(self):\n",
        "        pass\n",
        "\n",
        "    @abstractmethod\n",
        "    def move(self):\n",
        "        pass\n",
        "\n",
        "# Subclass that implements the abstract methods\n",
        "class Dog(Animal):\n",
        "\n",
        "    def sound(self):\n",
        "        print(\"Bark\")\n",
        "\n",
        "    def move(self):\n",
        "        print(\"Walks on four legs\")\n",
        "\n",
        "# Another subclass\n",
        "class Bird(Animal):\n",
        "\n",
        "    def sound(self):\n",
        "        print(\"Chirp\")\n",
        "\n",
        "    def move(self):\n",
        "        print(\"Flies\")\n",
        "\n",
        "# Trying to instantiate the abstract class directly will raise an error\n",
        "# animal = Animal()  # This will raise an error: TypeError: Can't instantiate abstract class Animal with abstract methods sound, move\n",
        "\n",
        "# Correct usage: Instantiate a subclass\n",
        "dog = Dog()\n",
        "dog.sound()  # Output: Bark\n",
        "dog.move()   # Output: Walks on four legs\n",
        "\n",
        "bird = Bird()\n",
        "bird.sound()  # Output: Chirp\n",
        "bird.move()   # Output: Flies\n",
        "\n",
        "\n"
      ],
      "metadata": {
        "colab": {
          "base_uri": "https://localhost:8080/"
        },
        "id": "R1GXtu4_pK3a",
        "outputId": "c3bbc0d6-5bae-4e8d-91ea-afa0b6960b99"
      },
      "execution_count": 15,
      "outputs": [
        {
          "output_type": "stream",
          "name": "stdout",
          "text": [
            "Bark\n",
            "Walks on four legs\n",
            "Chirp\n",
            "Flies\n"
          ]
        }
      ]
    },
    {
      "cell_type": "code",
      "source": [
        "#What are the advantages of OOP\n",
        "\n",
        "'''Modularity: Easier code management by dividing it into manageable units (objects/classes).\n",
        "\n",
        "Reusability: Code can be reused through inheritance and composition.\n",
        "\n",
        "Inheritance: Extends functionality of existing classes without modification.\n",
        "\n",
        "Encapsulation: Protects object data by restricting direct access to attributes.\n",
        "\n",
        "Abstraction: Hides complex details and exposes only necessary information.\n",
        "\n",
        "Polymorphism: Allows different classes to use the same interface, enhancing flexibility.\n",
        "\n",
        "Maintainability: Easier to maintain and update code due to modular structure.\n",
        "\n",
        "Scalability: Easier to scale and expand the program over time.\n",
        "\n",
        "Flexibility and Extensibility: Code can be easily modified or extended.\n",
        "\n",
        "Design Patterns: Provides structured approaches to solving common software design issues.\n",
        "\n",
        "Improved Collaboration: Easier for teams to work on different parts of the system.\n",
        "\n",
        "Real-world Modeling: Better representation of real-world entities and behaviors.'''"
      ],
      "metadata": {
        "id": "UY2Y92vzpK6C"
      },
      "execution_count": null,
      "outputs": []
    },
    {
      "cell_type": "code",
      "source": [
        "'''Shared by all instances of the class.\n",
        "\n",
        "Defined inside the class, outside any methods.\n",
        "\n",
        "Example: class MyClass: x = 10\n",
        "\n",
        "Instance Variable\n",
        "Unique to each instance (object).\n",
        "\n",
        "Defined inside the __init__ method using self.\n",
        "\n",
        "Example: class MyClass: def __init__(self, y): self.y = y\n",
        "\n",
        "Key Difference:\n",
        "Class variable: Same value for all instances.\n",
        "\n",
        "Instance variable: Different value for each instance.'''\n",
        "\n",
        "class Car:\n",
        "    wheels = 4  # Class variable\n",
        "\n",
        "    def __init__(self, make):\n",
        "        self.make = make  # Instance variable\n",
        "\n",
        "car1 = Car(\"Toyota\")\n",
        "car2 = Car(\"Honda\")\n",
        "\n",
        "print(car1.wheels)  # 4\n",
        "print(car2.wheels)  # 4\n",
        "print(car1.make)    # Toyota\n",
        "print(car2.make)    # Honda\n"
      ],
      "metadata": {
        "colab": {
          "base_uri": "https://localhost:8080/"
        },
        "id": "6Rzge7yQpK_s",
        "outputId": "a53e295c-39e8-4c97-d1ca-da0f50302a49"
      },
      "execution_count": 16,
      "outputs": [
        {
          "output_type": "stream",
          "name": "stdout",
          "text": [
            "4\n",
            "4\n",
            "Toyota\n",
            "Honda\n"
          ]
        }
      ]
    },
    {
      "cell_type": "code",
      "source": [
        "#What is multiple inheritance in Python\n",
        "\n",
        "'''Multiple inheritance in Python is a feature where a class can inherit from more than one class. This allows a child class to inherit attributes and methods from multiple parent classes.\n",
        "\n",
        "Key Points:\n",
        "Definition: In multiple inheritance, a class can inherit from two or more parent classes.\n",
        "\n",
        "Usage: It enables a class to combine features of multiple classes, promoting code reuse.\n",
        "\n",
        "Method Resolution Order (MRO): Python uses a specific order to resolve which method to call when methods are overridden in multiple parent classes.'''\n",
        "\n",
        "class Animal:\n",
        "    def speak(self):\n",
        "        print(\"Animal speaks\")\n",
        "\n",
        "class Mammal:\n",
        "    def breathe(self):\n",
        "        print(\"Mammal breathes air\")\n",
        "\n",
        "class Dog(Animal, Mammal):\n",
        "    def bark(self):\n",
        "        print(\"Dog barks\")\n",
        "\n",
        "# Creating an instance of Dog\n",
        "dog = Dog()\n",
        "\n",
        "dog.speak()   # Inherited from Animal\n",
        "dog.breathe() # Inherited from Mammal\n",
        "dog.bark()    # Defined in Dog class\n"
      ],
      "metadata": {
        "colab": {
          "base_uri": "https://localhost:8080/"
        },
        "id": "ESy94i3gpLCr",
        "outputId": "ea83f97b-1cf6-488b-9614-39c46f487195"
      },
      "execution_count": 17,
      "outputs": [
        {
          "output_type": "stream",
          "name": "stdout",
          "text": [
            "Animal speaks\n",
            "Mammal breathes air\n",
            "Dog barks\n"
          ]
        }
      ]
    },
    {
      "cell_type": "code",
      "source": [
        "#Explain the purpose of ‘’__str__’ and ‘__repr__’ ‘ methods in Python\n",
        "'''__str__ Method\n",
        "Purpose: Defines a human-readable string for the object.\n",
        "\n",
        "Used by: print() and str().\n",
        "\n",
        "Goal: User-friendly output.\n",
        "\n",
        "__repr__ Method\n",
        "Purpose: Defines a formal, unambiguous string for the object, often suitable for debugging.\n",
        "\n",
        "Used by: repr() and in interactive mode.\n",
        "\n",
        "Goal: Developer-friendly output.'''\n",
        "\n",
        "class Person:\n",
        "    def __init__(self, name, age):\n",
        "        self.name = name\n",
        "        self.age = age\n",
        "\n",
        "    def __str__(self):\n",
        "        return f\"Person: {self.name}, Age: {self.age}\"\n",
        "\n",
        "    def __repr__(self):\n",
        "        return f\"Person('{self.name}', {self.age})\"\n",
        "\n",
        "p = Person(\"Alice\", 30)\n",
        "\n",
        "print(p)         # Output: Person: Alice, Age: 30\n",
        "print(repr(p))   # Output: Person('Alice', 30)\n"
      ],
      "metadata": {
        "colab": {
          "base_uri": "https://localhost:8080/"
        },
        "id": "V63yGXjnqOKT",
        "outputId": "fa69ab16-c7e6-4ba7-f0ec-cf0f6b650ef0"
      },
      "execution_count": 18,
      "outputs": [
        {
          "output_type": "stream",
          "name": "stdout",
          "text": [
            "Person: Alice, Age: 30\n",
            "Person('Alice', 30)\n"
          ]
        }
      ]
    },
    {
      "cell_type": "code",
      "source": [
        "#What is the significance of the ‘super()’ function in Python\n",
        "\n",
        "'''The super() function in Python is used to call methods from a parent (or superclass) class in the context of inheritance. It provides a way to refer to the parent class without explicitly naming it, which is useful for maintaining the code's flexibility and avoiding direct references to base classes.\n",
        "\n",
        "Significance of super():\n",
        "Access Parent Class Methods: It allows you to call methods from the parent class in the child class, especially when you override methods but still need to use the base class's functionality.\n",
        "\n",
        "Method Resolution Order (MRO): super() helps in adhering to the method resolution order, ensuring the correct method is called in cases of multiple inheritance.\n",
        "\n",
        "Avoids Hard-Coding Parent Class Name: Instead of directly using the parent class name, super() dynamically refers to it, making the code more maintainable and flexible.'''\n",
        "\n",
        "class Animal:\n",
        "    def speak(self):\n",
        "        print(\"Animal speaks\")\n",
        "\n",
        "class Dog(Animal):\n",
        "    def speak(self):\n",
        "        super().speak()  # Calls the speak method of the parent class\n",
        "        print(\"Dog barks\")\n",
        "\n",
        "# Creating an instance of Dog\n",
        "dog = Dog()\n",
        "dog.speak()\n"
      ],
      "metadata": {
        "colab": {
          "base_uri": "https://localhost:8080/"
        },
        "id": "9zLmxVYGqONK",
        "outputId": "9c21c389-f05f-4f26-c8d4-a88a787ebbdf"
      },
      "execution_count": 19,
      "outputs": [
        {
          "output_type": "stream",
          "name": "stdout",
          "text": [
            "Animal speaks\n",
            "Dog barks\n"
          ]
        }
      ]
    },
    {
      "cell_type": "code",
      "source": [
        "#What is the significance of the __del__ method in Python\n",
        "\n",
        "'''The __del__ method in Python is a special method called a destructor. It is used to clean up an object when it is about to be destroyed (i.e., when the object is no longer in use and is about to be garbage collected).\n",
        "\n",
        "Significance of the __del__ Method:\n",
        "Object Cleanup: The __del__ method allows you to define the actions that should be taken when an object is about to be destroyed, such as releasing external resources (files, network connections, etc.).\n",
        "\n",
        "Memory Management: Although Python uses automatic memory management (via garbage collection), the __del__ method can be helpful for releasing resources that need manual intervention, like closing files or database connections.\n",
        "\n",
        "Finalization: It's often used to perform \"finalization\" tasks, such as logging or cleaning up objects that are no longer needed.\n",
        "\n",
        "How It Works:\n",
        "The __del__ method is automatically called when an object's reference count reaches zero, meaning no more references to the object exist.\n",
        "\n",
        "Python's garbage collector decides when to destroy an object, but it may not call __del__ immediately when an object becomes unreachable. In cases where objects involve external resources, it's important to handle them manually using __del__.'''\n",
        "\n",
        "class FileHandler:\n",
        "    def __init__(self, filename):\n",
        "        self.filename = filename\n",
        "        self.file = open(filename, 'w')\n",
        "        print(f\"Opening file: {self.filename}\")\n",
        "\n",
        "    def write_data(self, data):\n",
        "        self.file.write(data)\n",
        "\n",
        "    def __del__(self):\n",
        "        self.file.close()  # Clean up by closing the file\n",
        "        print(f\"Closing file: {self.filename}\")\n",
        "\n",
        "# Creating an instance of FileHandler\n",
        "handler = FileHandler(\"test.txt\")\n",
        "handler.write_data(\"Some important data.\")\n",
        "\n",
        "# The object is about to be destroyed, so __del__ will be called automatically\n",
        "del handler  # Explicitly delete the object to call __del__\n"
      ],
      "metadata": {
        "colab": {
          "base_uri": "https://localhost:8080/"
        },
        "id": "ECX9iFc5qORz",
        "outputId": "ca05b8a3-82d0-4c87-9dc7-bad3ff77b50c"
      },
      "execution_count": 20,
      "outputs": [
        {
          "output_type": "stream",
          "name": "stdout",
          "text": [
            "Opening file: test.txt\n",
            "Closing file: test.txt\n"
          ]
        }
      ]
    },
    {
      "cell_type": "code",
      "source": [
        "#What is the difference between @staticmethod and @classmethod in Python\n",
        "\n",
        "'''short comparison between @staticmethod and @classmethod in Python:\n",
        "\n",
        "@staticmethod:\n",
        "No reference to class or instance: Does not take self or cls as the first argument.\n",
        "\n",
        "Purpose: Used for utility functions that don’t need access to class or instance data.\n",
        "\n",
        "Call: Can be called on the class or an instance.\n",
        "\n",
        "@classmethod:\n",
        "Takes cls as the first argument: Refers to the class itself, not the instance.\n",
        "\n",
        "Purpose: Used to access or modify class-level data, often for alternative constructors.\n",
        "\n",
        "Call: Can be called on the class or an instance."
      ],
      "metadata": {
        "id": "-mutk-L5qOV8"
      },
      "execution_count": null,
      "outputs": []
    },
    {
      "cell_type": "code",
      "source": [
        "#How does polymorphism work in Python with inheritance\n",
        "\n",
        "'''Polymorphism in Python with inheritance allows a subclass to provide a specific implementation of a method that is already defined in its parent class. This enables the same method to behave differently depending on the object (instance) that calls it.\n",
        "\n",
        "How Polymorphism Works in Python with Inheritance:\n",
        "Method Overriding: A subclass can override a method from its parent class. This is the most common way polymorphism is implemented in Python.\n",
        "\n",
        "Dynamic Method Resolution: Python decides at runtime which version of the method to call, based on the type of the object (instance) making the call.\n",
        "\n",
        "Same Method Name, Different Behavior: The same method name can behave differently depending on the class of the object.'''\n",
        "\n",
        "class Animal:\n",
        "    def speak(self):\n",
        "        return \"Animal speaks\"\n",
        "\n",
        "class Dog(Animal):\n",
        "    def speak(self):\n",
        "        return \"Dog barks\"\n",
        "\n",
        "class Cat(Animal):\n",
        "    def speak(self):\n",
        "        return \"Cat meows\"\n",
        "\n",
        "# Polymorphism in action\n",
        "animals = [Dog(), Cat()]\n",
        "\n",
        "for animal in animals:\n",
        "    print(animal.speak())  # Calls the appropriate method based on the object's class\n"
      ],
      "metadata": {
        "colab": {
          "base_uri": "https://localhost:8080/"
        },
        "id": "yYJI8JcmrauB",
        "outputId": "0d6fa787-ac7f-41b0-b89d-99d487b1b759"
      },
      "execution_count": 21,
      "outputs": [
        {
          "output_type": "stream",
          "name": "stdout",
          "text": [
            "Dog barks\n",
            "Cat meows\n"
          ]
        }
      ]
    },
    {
      "cell_type": "code",
      "source": [
        "'''Method chaining in Python OOP (Object-Oriented Programming) refers to the practice of calling multiple methods on the same object, one after another, in a single line of code. This is made possible by having methods return the object itself (usually self) at the end of each method, which allows for successive method calls.\n",
        "\n",
        "How Method Chaining Works:\n",
        "Each method in a chain returns the object itself (via self), allowing another method to be called immediately on the returned object.\n",
        "\n",
        "This creates a fluent interface where you can perform multiple operations in a compact and readable way.'''\n",
        "\n",
        "class Calculator:\n",
        "    def __init__(self, value=0):\n",
        "        self.value = value\n",
        "\n",
        "    def add(self, x):\n",
        "        self.value += x\n",
        "        return self  # Returning the object itself for chaining\n",
        "\n",
        "    def subtract(self, x):\n",
        "        self.value -= x\n",
        "        return self  # Returning the object itself for chaining\n",
        "\n",
        "    def multiply(self, x):\n",
        "        self.value *= x\n",
        "        return self  # Returning the object itself for chaining\n",
        "\n",
        "    def get_result(self):\n",
        "        return self.value\n",
        "\n",
        "# Using method chaining\n",
        "result = Calculator().add(10).subtract(4).multiply(3).get_result()\n",
        "print(result)  # Output: 18\n"
      ],
      "metadata": {
        "colab": {
          "base_uri": "https://localhost:8080/"
        },
        "id": "gJBl5sHPraw6",
        "outputId": "4f16c8df-7fd6-49cf-8c7a-6af4f3018761"
      },
      "execution_count": 22,
      "outputs": [
        {
          "output_type": "stream",
          "name": "stdout",
          "text": [
            "18\n"
          ]
        }
      ]
    },
    {
      "cell_type": "code",
      "source": [
        "#What is the purpose of the __call__ method in Python?\n",
        "\n",
        "'''The __call__ method in Python is a special method that allows an object to be called as if it were a function. This means you can invoke an instance of a class using parentheses, like you would a function, and the __call__ method will be executed.\n",
        "\n",
        "Purpose of the __call__ Method:\n",
        "Make an object callable: By implementing the __call__ method in a class, you allow instances of that class to be invoked as if they were functions.\n",
        "\n",
        "Flexible behavior: This can be used to add flexible behavior to objects, making them more dynamic and enabling them to be used in more ways, similar to functions.\n",
        "\n",
        "How It Works:\n",
        "When you define the __call__ method in a class, you enable instances of that class to be called like functions. The arguments passed during the call are forwarded to the __call__ method.'''\n",
        "\n",
        "class Greeter:\n",
        "    def __init__(self, name):\n",
        "        self.name = name\n",
        "\n",
        "    def __call__(self, greeting):\n",
        "        return f\"{greeting}, {self.name}!\"\n",
        "\n",
        "# Create an instance of Greeter\n",
        "greeter = Greeter(\"Alice\")\n",
        "\n",
        "# Calling the instance as if it's a function\n",
        "print(greeter(\"Hello\"))  # Output: Hello, Alice!\n"
      ],
      "metadata": {
        "colab": {
          "base_uri": "https://localhost:8080/"
        },
        "id": "UPsFENSwra0C",
        "outputId": "695396b5-26ae-418c-d133-0d35c94291f5"
      },
      "execution_count": 23,
      "outputs": [
        {
          "output_type": "stream",
          "name": "stdout",
          "text": [
            "Hello, Alice!\n"
          ]
        }
      ]
    },
    {
      "cell_type": "code",
      "source": [],
      "metadata": {
        "id": "hY37pKsEra16"
      },
      "execution_count": null,
      "outputs": []
    }
  ]
}