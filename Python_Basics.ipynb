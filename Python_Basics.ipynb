{
  "nbformat": 4,
  "nbformat_minor": 0,
  "metadata": {
    "colab": {
      "provenance": []
    },
    "kernelspec": {
      "name": "python3",
      "display_name": "Python 3"
    },
    "language_info": {
      "name": "python"
    }
  },
  "cells": [
    {
      "cell_type": "code",
      "execution_count": null,
      "metadata": {
        "id": "1f1MktrEQdJY"
      },
      "outputs": [],
      "source": [
        "#What is Python, and why is it popular\n",
        "'''Python is a popular language because of its readability, versatility, and efficiency.\n",
        "key features:\n",
        "a. Simple and Easy to Learn: Python's syntax is straightforward, allowing new to read and write code easily.\n",
        "b. Interpreted Language: Python executes line by line, which simplifies debugging and testing.\n",
        "c. Dynamic Typing: Python allows variables to change type dynamically, which means you don’t need to declare variable types explicitly.\n",
        "d. Extensive Libraries: Python’s libraries, like NumPy, Pandas, and Django, make it easy to perform various tasks, from data science to web development.\n",
        "e. Cross-Platform Compatibility: Python can run on different operating systems without modification.\n",
        "f. Object-Oriented and Functional: Python supports both paradigms, which adds flexibility.'''\n"
      ]
    },
    {
      "cell_type": "code",
      "source": [
        "#What is an interpreter in Python\n",
        "'''In Python, an interpreter is a program that reads and executes Python code line by line rather than compiling it all at once like a compiler. This makes Python an interpreted language.\n",
        "Key Benefits of Python's Interpreter:\n",
        "Easy Debugging: You can test code interactively.\n",
        " Platform Independence: Python runs on multiple OS (Windows, macOS, Linux) because of its interpreter.\n",
        " Faster Development: You don't need to compile the entire program before running it.'''"
      ],
      "metadata": {
        "id": "KHBntWdFQobL"
      },
      "execution_count": null,
      "outputs": []
    },
    {
      "cell_type": "code",
      "source": [
        "'''Describe the role of predefined keywords in Python\n",
        "Keywords are reserved words in Python used to define the structure and syntax. They cannot be used as identifiers (variable names). Examples include if, else, while, for, and return.'''"
      ],
      "metadata": {
        "id": "ssRPwgcyQogw"
      },
      "execution_count": null,
      "outputs": []
    },
    {
      "cell_type": "code",
      "source": [
        "# Can keywords be used as variable names\n",
        "# No, keywords cannot be used as variable names in Python.\n",
        "#Keywords are reserved words that have special meanings in Python. If you try to use them as variable names, Python will throw a SyntaxError"
      ],
      "metadata": {
        "id": "i8IkF3sUQonh"
      },
      "execution_count": null,
      "outputs": []
    },
    {
      "cell_type": "code",
      "source": [
        "#8 What is mutability in Python\n",
        "'''Mutability in Python\n",
        "In Python, mutability refers to the ability of an object to change its value after it has been created. If an object can be modified after creation, it is considered mutable. If its value cannot be changed, it is considered immutable.\n",
        "\n",
        "Mutable Objects\n",
        "Mutable objects allow modifications to their content without changing their identity. Some common mutable data types in Python include:\n",
        "\n",
        "Lists (list)\n",
        "Dictionaries (dict)\n",
        "Sets (set)''"
      ],
      "metadata": {
        "id": "mDRR7bAZQoqg"
      },
      "execution_count": null,
      "outputs": []
    },
    {
      "cell_type": "code",
      "source": [
        "#Why are lists mutable, but tuples are immutable\n",
        "'''Lists (list) are designed for flexible, dynamic collections. They are meant to be changed, so they are mutable. This allows adding, removing, and modifying elements.\n",
        "\n",
        "Tuples (tuple) are designed for fixed collections where data integrity is crucial. Their immutability prevents accidental modification, ensuring data remains constant. This makes them suitable for representing unchanging data like database records or dictionary keys.\n",
        "\n",
        "Essentially, mutability in lists enables dynamic data manipulation, while immutability in tuples guarantees data integrity. This difference aligns with their intended purposes.'''"
      ],
      "metadata": {
        "id": "to5v-AKTQotA"
      },
      "execution_count": null,
      "outputs": []
    },
    {
      "cell_type": "code",
      "source": [
        "#What is the difference between “==” and “is” operators in Python\n",
        "'''he difference between == and is in Python:\n",
        "\n",
        "== checks if two objects have the same value.\n",
        "is checks if two objects are the same object in memory.\n",
        "Think of it like this:\n",
        "\n",
        "==: Do these two things look the same?\n",
        "is: Are these two things actually the same thing?\n",
        "Use == for comparing content and is for checking identity.'''"
      ],
      "metadata": {
        "id": "YLCg922FSGA5"
      },
      "execution_count": null,
      "outputs": []
    },
    {
      "cell_type": "code",
      "source": [
        "#What are logical operators in Python\n",
        "'''Logical operators in Python:\n",
        "\n",
        "Logical operators combine or modify Boolean expressions (True or False).\n",
        "\n",
        "and: True if both operands are True.\n",
        "or: True if at least one operand is True.\n",
        "not: Inverts the truth value (opposite of the operand).\n",
        "They are used for creating complex conditions and controlling program flow.\n",
        "\n",
        "For example:'''\n",
        "age = 25\n",
        "has_license = True\n",
        "\n",
        "if age >= 18 and has_license:\n",
        "    print(\"You can drive\")"
      ],
      "metadata": {
        "colab": {
          "base_uri": "https://localhost:8080/"
        },
        "id": "lHqF0t2ISF-g",
        "outputId": "1188f77d-43fa-4de3-99b3-e226c03b54e9"
      },
      "execution_count": null,
      "outputs": [
        {
          "output_type": "stream",
          "name": "stdout",
          "text": [
            "You can drive\n"
          ]
        }
      ]
    },
    {
      "cell_type": "code",
      "source": [
        "#What is type casting in Python\n",
        "\n",
        "#Type casting is the process of converting a value of one data type to another (like int, float, str).\n",
        "\n",
        "#To use functions like int(), float(), str() to perform the conversion.\n",
        "\n",
        "#Example:\n",
        "\n",
        "age = \"10\"  # age is a string\n",
        "age_as_int = int(age)\n",
        "print(type(age))"
      ],
      "metadata": {
        "colab": {
          "base_uri": "https://localhost:8080/"
        },
        "id": "dRx0UGQpSF5q",
        "outputId": "eb6b74ec-246a-4e59-f9a1-1f1d26913fd9"
      },
      "execution_count": null,
      "outputs": [
        {
          "output_type": "stream",
          "name": "stdout",
          "text": [
            "<class 'str'>\n"
          ]
        }
      ]
    },
    {
      "cell_type": "code",
      "source": [
        "#What is the difference between implicit and explicit type casting\n",
        "'''The difference between implicit and explicit type casting:\n",
        "\n",
        "Implicit Type Casting: Done automatically by Python. It happens when you perform operations that involve different data types, and Python tries to convert one type to another without you explicitly telling it to.\n",
        "\n",
        "Explicit Type Casting: Done manually by the programmer. It's when you use functions like int(), float(), or str() to convert a value from one type to another explicitly.\n",
        "\n",
        "In short: Implicit is automatic, explicit is manual. Choose explicit for clarity and control, and be aware of implicit conversions to avoid unexpected behavior.'''"
      ],
      "metadata": {
        "id": "XNY0xuicSF1A"
      },
      "execution_count": null,
      "outputs": []
    },
    {
      "cell_type": "code",
      "source": [
        "#What is the purpose of conditional statements in Python\n",
        "'''the purpose of conditional statements in Python:\n",
        "\n",
        "Conditional statements control the flow of execution in a program based on whether a condition is True or False. They allow you to execute specific blocks of code only when certain conditions are met. This enables programs to make decisions and respond differently to various inputs or situations.\n",
        "\n",
        " Conditional statements let your program make decisions and execute different code based on those decisions.'''"
      ],
      "metadata": {
        "id": "-hACuaK4SFyR"
      },
      "execution_count": null,
      "outputs": []
    },
    {
      "cell_type": "code",
      "source": [
        "#The elif statement (short for \"else if\") allows you to check multiple conditions sequentially. It's used within an if statement and is executed only if the preceding if and any previous elif conditions are False and the current elif condition is True. It helps create more complex decision-making logic by providing alternative paths for your code to follow based on different conditions.\n",
        "\n",
        "# elif checks additional conditions if previous ones are False, providing more decision-making options."
      ],
      "metadata": {
        "id": "BYBAiOPISFqZ"
      },
      "execution_count": null,
      "outputs": []
    },
    {
      "cell_type": "code",
      "source": [
        "#What is the difference between for and while loops\n",
        "''' the difference between for and while loops in Python:\n",
        "\n",
        "for loop: Iterates over a sequence (like a list, tuple, or string) and executes a block of code for each item in the sequence. It's used when you know the number of iterations in advance.\n",
        "\n",
        "while loop: Repeats a block of code as long as a condition is True. It's used when you don't know the number of iterations in advance and want to keep looping until a specific condition is met.\n",
        "\n",
        "In short: for loops are for definite iteration, while loops are for indefinite iteration. Choose the loop that best fits the task\n",
        "'''"
      ],
      "metadata": {
        "id": "o4npbfuYVD70"
      },
      "execution_count": null,
      "outputs": []
    },
    {
      "cell_type": "code",
      "source": [
        "#Describe a scenario where a while loop is more suitable than a for loop.\n",
        "'''A while loop is more suitable than a for loop when the number of iterations is not known in advance and depends on a condition being met.\n",
        "\n",
        "Scenario: User Input Validation\n",
        "Imagine you are building a login system that asks a user for a password. You don’t know how many attempts the user will take to enter the correct password, so a while loop is the best choice.\n",
        "'''\n",
        "correct_password = \"PythonRocks\"\n",
        "user_input = \"to\"\n",
        "\n",
        "while user_input != correct_password:\n",
        "    user_input = input(\"Enter the password: \")\n",
        "    if user_input == correct_password:\n",
        "        print(\"Access Granted!\")\n",
        "    else:\n",
        "        print(\"Incorrect password. Try again.\")\n",
        "\n",
        "'''Why is while better here?\n",
        "The number of attempts is unknown in advance.\n",
        "\n",
        "It keeps looping until the correct password is entered.\n",
        "\n",
        "A for loop wouldn't be ideal because it runs a fixed number of times.'''"
      ],
      "metadata": {
        "id": "Oz8V_cXSVD-j"
      },
      "execution_count": null,
      "outputs": []
    },
    {
      "cell_type": "markdown",
      "source": [
        "Practical Questions"
      ],
      "metadata": {
        "id": "f-ncaGK0W5O8"
      }
    },
    {
      "cell_type": "code",
      "source": [
        "# Write a Python program to print \"Hello, World!\n",
        "S='Hello,World'\n",
        "print(S)"
      ],
      "metadata": {
        "id": "LJYafrOwVEEE",
        "colab": {
          "base_uri": "https://localhost:8080/"
        },
        "outputId": "d6a36606-73d2-40d1-a567-8944d4cb6c34"
      },
      "execution_count": null,
      "outputs": [
        {
          "output_type": "stream",
          "name": "stdout",
          "text": [
            "Hello,World\n"
          ]
        }
      ]
    },
    {
      "cell_type": "code",
      "source": [
        "#Write a Python program that displays your name and age\n",
        "\n",
        "my_name = \"sanju\"  # Replace with your actual name\n",
        "my_age = 23 # Replace with your actual age\n",
        "\n",
        "print(\"My name is\", my_name)\n",
        "print(\"My age is\", my_age)"
      ],
      "metadata": {
        "id": "Oppbx0_PVEGU",
        "colab": {
          "base_uri": "https://localhost:8080/"
        },
        "outputId": "92bd052c-53be-4a64-8622-9c40e3bbc534"
      },
      "execution_count": null,
      "outputs": [
        {
          "output_type": "stream",
          "name": "stdout",
          "text": [
            "My name is sanju\n",
            "My age is 23\n"
          ]
        }
      ]
    },
    {
      "cell_type": "code",
      "source": [
        "# Write code to print all the pre-defined keywords in Python using the keyword library\n",
        "import keyword\n",
        "\n",
        "def is_keyword(word):\n",
        "  \"\"\"Checks if a given word is a Python keyword.\n",
        "\n",
        "  Args:\n",
        "    word: The word to check.\n",
        "\n",
        "  Returns:\n",
        "    True if the word is a keyword, False otherwise.\n",
        "  \"\"\"\n",
        "  return keyword.iskeyword(word)\n",
        "\n",
        "# Get input from the user\n",
        "word_to_check = input(\"Enter a word: \")\n",
        "\n",
        "# Check if the word is a keyword\n",
        "if is_keyword(word_to_check):\n",
        "  print(f\"'{word_to_check}' is a Python keyword.\")\n",
        "else:\n",
        "  print(f\"'{word_to_check}' is not a Python keyword.\")"
      ],
      "metadata": {
        "id": "QihJ-lkmVEIy",
        "colab": {
          "base_uri": "https://localhost:8080/"
        },
        "outputId": "226b8cda-2816-4960-b9d7-c7fe36ef1c2e"
      },
      "execution_count": null,
      "outputs": [
        {
          "output_type": "stream",
          "name": "stdout",
          "text": [
            "Enter a word: help\n",
            "'help' is not a Python keyword.\n"
          ]
        }
      ]
    },
    {
      "cell_type": "code",
      "source": [
        "# Create a list and tuple in Python, and demonstrate how attempting to change an element works differently for each\n",
        "# lists and tuples are both used to store collections of items, but they have a key difference:\n",
        "#Lists are mutable, meaning you can change their elements.\n",
        "#Tuples are immutable, meaning you cannot change their elements after creation.\n",
        "\n",
        "# Creating a list\n",
        "my_list = [1, 2, 3, 4, 5]\n",
        "print(\"Original list:\", my_list)\n",
        "\n",
        "# Modifying an element in the list\n",
        "my_list[2] = 10  # Changing the third element\n",
        "print(\"Modified list:\", my_list)\n",
        "\n",
        "# Creating a tuple\n",
        "my_tuple = (1, 2, 3, 4, 5)\n",
        "print(\"Original tuple:\", my_tuple)\n",
        "\n",
        "# Attempting to modify an element in the tuple\n",
        "try:\n",
        "    my_tuple[2] = 10  # This will raise a TypeError\n",
        "except TypeError as e:\n",
        "    print(\"Error:\", e)\n"
      ],
      "metadata": {
        "colab": {
          "base_uri": "https://localhost:8080/"
        },
        "id": "-mJP7UnS_CTB",
        "outputId": "e4ec6f49-256d-4c18-d7bc-bee6f1aa7cd1"
      },
      "execution_count": null,
      "outputs": [
        {
          "output_type": "stream",
          "name": "stdout",
          "text": [
            "Original list: [1, 2, 3, 4, 5]\n",
            "Modified list: [1, 2, 10, 4, 5]\n",
            "Original tuple: (1, 2, 3, 4, 5)\n",
            "Error: 'tuple' object does not support item assignment\n"
          ]
        }
      ]
    },
    {
      "cell_type": "code",
      "source": [
        "#Write a function to demonstrate the behavior of mutable and immutable arguments.\n",
        "# Python function demonstrating the difference between mutable (e.g., lists) and immutable\n",
        "\n",
        "def demonstrate_mutable_immutable(mutable_list, immutable_num):\n",
        "\n",
        "    mutable_list.append(100)\n",
        "    print(\"Inside function (mutable):\", mutable_list)\n",
        "\n",
        "\n",
        "    immutable_num += 10\n",
        "    print(\"Inside function (immutable):\", immutable_num)\n",
        "\n",
        "# Initialize values\n",
        "my_list = [1, 2, 3]\n",
        "my_number = 50\n",
        "\n",
        "# Call function\n",
        "demonstrate_mutable_immutable(my_list, my_number)\n",
        "\n",
        "# Check values outside the function\n",
        "print(\"Outside function (mutable):\", my_list)\n",
        "print(\"Outside function (immutable):\", my_number)"
      ],
      "metadata": {
        "colab": {
          "base_uri": "https://localhost:8080/"
        },
        "id": "gPb_AqyD_CWo",
        "outputId": "505a4173-6d23-4127-f2bb-e3960cd9691d"
      },
      "execution_count": null,
      "outputs": [
        {
          "output_type": "stream",
          "name": "stdout",
          "text": [
            "Inside function (mutable): [1, 2, 3, 100]\n",
            "Inside function (immutable): 60\n",
            "Outside function (mutable): [1, 2, 3, 100]\n",
            "Outside function (immutable): 50\n"
          ]
        }
      ]
    },
    {
      "cell_type": "code",
      "source": [
        "# Write a program that performs basic arithmetic operations on two user-input numbers\n",
        "a, b = float(input()), float(input())\n",
        "print(a + b, a - b, a * b, a / b if b else \"Undefined\")"
      ],
      "metadata": {
        "id": "x2SCm0-n_CZp"
      },
      "execution_count": null,
      "outputs": []
    },
    {
      "cell_type": "code",
      "source": [
        "#Write a program to demonstrate the use of logical operators\n",
        "a, b = int(input()), int(input())\n",
        "print((a > 0) and (b > 0), (a > 0) or (b < 0), not (a > 0))\n"
      ],
      "metadata": {
        "id": "W0D4o28W_CcS"
      },
      "execution_count": null,
      "outputs": []
    },
    {
      "cell_type": "code",
      "source": [
        "#Write a Python program to convert user input from string to integer, float, and boolean types.\n",
        "user_input = input(\"Enter a value: \")\n",
        "\n",
        "try:\n",
        "    print(\"Integer:\", int(user_input))\n",
        "except ValueError:\n",
        "    print(\"Cannot convert to Integer\")\n",
        "\n",
        "try:\n",
        "    print(\"Float:\", float(user_input))\n",
        "except ValueError:\n",
        "    print(\"Cannot convert to Float\")\n",
        "\n",
        "print(\"Boolean:\", bool(user_input))"
      ],
      "metadata": {
        "id": "ylsjYNpX_Cev",
        "colab": {
          "base_uri": "https://localhost:8080/"
        },
        "outputId": "e7dc50a0-8b99-4f88-b1e4-ddc5dbccb486"
      },
      "execution_count": 16,
      "outputs": [
        {
          "output_type": "stream",
          "name": "stdout",
          "text": [
            "Enter a value: 7\n",
            "Integer: 7\n",
            "Float: 7.0\n",
            "Boolean: True\n"
          ]
        }
      ]
    },
    {
      "cell_type": "code",
      "source": [
        "# Write a program that checks if a number is positive, negative, or zero.\n",
        "# Get user input\n",
        "num = float(input(\"Enter a number: \"))\n",
        "\n",
        "# Check if the number is positive, negative, or zero\n",
        "if num > 0:\n",
        "    print(\"The number is Positive.\")\n",
        "elif num < 0:\n",
        "    print(\"The number is Negative.\")\n",
        "else:\n",
        "    print(\"The number is Zero.\")\n"
      ],
      "metadata": {
        "id": "EVpHV-NGC6Sp",
        "colab": {
          "base_uri": "https://localhost:8080/"
        },
        "outputId": "5177c887-2c33-42f1-a004-8d1103501e83"
      },
      "execution_count": 15,
      "outputs": [
        {
          "output_type": "stream",
          "name": "stdout",
          "text": [
            "Enter a number: 6\n",
            "The number is Positive.\n"
          ]
        }
      ]
    },
    {
      "cell_type": "code",
      "source": [
        "#Calculate the sum of even numbers between 1 and 50\n",
        "even_sum = sum(range(2, 51, 2))\n",
        "print(\"Sum of even numbers from 1 to 50:\", even_sum)"
      ],
      "metadata": {
        "id": "gLBCV3a5C6Vv",
        "colab": {
          "base_uri": "https://localhost:8080/"
        },
        "outputId": "8934ad2e-01ac-4ccc-887f-7714a24e2a7a"
      },
      "execution_count": 13,
      "outputs": [
        {
          "output_type": "stream",
          "name": "stdout",
          "text": [
            "Sum of even numbers from 1 to 50: 650\n"
          ]
        }
      ]
    },
    {
      "cell_type": "code",
      "source": [
        "#Write a program to reverse a string using a while loop\n",
        "txt = \"New York\"\n",
        "\n",
        "rev = txt[::-1]\n",
        "\n",
        "print(\"Original = \", txt)\n",
        "print(\"Reversed =\", rev)"
      ],
      "metadata": {
        "id": "OnLR76NQC6Y6",
        "colab": {
          "base_uri": "https://localhost:8080/"
        },
        "outputId": "41610a31-4b00-40c7-bd3e-38e3554ca578"
      },
      "execution_count": 12,
      "outputs": [
        {
          "output_type": "stream",
          "name": "stdout",
          "text": [
            "Original =  New York\n",
            "Reversed = kroY weN\n"
          ]
        }
      ]
    },
    {
      "cell_type": "code",
      "source": [
        "# Write a Python program to calculate the factorial of a number provided by the user using a while loop\n",
        "n = int(input(\"Enter a number: \"))\n",
        "fact, i = 1, n\n",
        "while i > 0: fact *= i; i -= 1\n",
        "print(\"Factorial:\", fact)"
      ],
      "metadata": {
        "id": "GoTd-SZjC6cM",
        "colab": {
          "base_uri": "https://localhost:8080/"
        },
        "outputId": "cbea56de-c4df-49b1-c83b-7326223b6931"
      },
      "execution_count": 19,
      "outputs": [
        {
          "output_type": "stream",
          "name": "stdout",
          "text": [
            "Enter a number: 9\n",
            "Factorial: 362880\n"
          ]
        }
      ]
    }
  ]
}