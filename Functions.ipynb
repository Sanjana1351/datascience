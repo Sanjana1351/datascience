{
  "nbformat": 4,
  "nbformat_minor": 0,
  "metadata": {
    "colab": {
      "provenance": []
    },
    "kernelspec": {
      "name": "python3",
      "display_name": "Python 3"
    },
    "language_info": {
      "name": "python"
    }
  },
  "cells": [
    {
      "cell_type": "markdown",
      "source": [
        "Theory Questions"
      ],
      "metadata": {
        "id": "hhoUfsEaUdyz"
      }
    },
    {
      "cell_type": "code",
      "source": [
        "# What is the difference between a function and a method in Python?\n",
        "#function is an independent block of code, while a method is a function inside a class that operates on an instance.\n",
        "\n",
        "#Key Differences:\n",
        "#Function: Defined outside a class, called directly → greet(\"Sanjana\")\n",
        "\n",
        "#Method: Defined inside a class, called on an object → p.greet()\n",
        "\n",
        "\n",
        "def func():  # Function\n",
        "    return \"I'm a function!\"\n",
        "\n",
        "class MyClass:\n",
        "    def method(self):  # Method\n",
        "        return \"I'm a method!\"\n",
        "\n",
        "# Calling the function\n",
        "print(func())  # Output: I'm a function!\n",
        "\n",
        "# Creating an object and calling the method\n",
        "obj = MyClass()\n",
        "print(obj.method())"
      ],
      "metadata": {
        "colab": {
          "base_uri": "https://localhost:8080/"
        },
        "id": "kdzAygjKUiqk",
        "outputId": "95d3be46-ed15-405a-e965-d75bcd56bece"
      },
      "execution_count": 3,
      "outputs": [
        {
          "output_type": "stream",
          "name": "stdout",
          "text": [
            "I'm a function!\n",
            "I'm a method!\n"
          ]
        }
      ]
    },
    {
      "cell_type": "code",
      "source": [
        "#. Explain the concept of function arguments and parameters in Python\n",
        "'''Function Arguments and Parameters\n",
        "In Python, functions often need information to perform their tasks. This information is provided through arguments, which are passed to the function when it's called. Parameters act as placeholders within the function definition to receive these arguments.\n",
        "\n",
        "Think of it like this:\n",
        "\n",
        "Parameters: Ingredients listed in a recipe. (defined when creating the function).\n",
        "Arguments: The actual ingredients you use when cooking (passed when calling the function)\n",
        "Here's a simple example:'''\n",
        "\n",
        "\n",
        "def greet(name):  # 'name' is a parameter\n",
        "    print(f\"Hello, {name}!\")\n",
        "\n",
        "greet(\"Alice\")  # \"Alice\" is an argument"
      ],
      "metadata": {
        "colab": {
          "base_uri": "https://localhost:8080/"
        },
        "id": "aJGuL4HRUis6",
        "outputId": "970f26a3-feb0-4bf4-9af6-a11f51856dea"
      },
      "execution_count": 4,
      "outputs": [
        {
          "output_type": "stream",
          "name": "stdout",
          "text": [
            "Hello, Alice!\n"
          ]
        }
      ]
    },
    {
      "cell_type": "code",
      "source": [
        "# What are the different ways to define and call a function in Python?\n",
        "#1. Standard Function\n",
        "#Defined using def, called by name with arguments.\n",
        "\n",
        "\n",
        "def greet(name): return f\"Hi {name}\"\n",
        "greet(\"Sanjana\")\n",
        "\n"
      ],
      "metadata": {
        "colab": {
          "base_uri": "https://localhost:8080/",
          "height": 36
        },
        "id": "fKOPhvZzUivS",
        "outputId": "2892169f-19e4-4048-844e-87aec40b0657"
      },
      "execution_count": 5,
      "outputs": [
        {
          "output_type": "execute_result",
          "data": {
            "text/plain": [
              "'Hi Sanjana'"
            ],
            "application/vnd.google.colaboratory.intrinsic+json": {
              "type": "string"
            }
          },
          "metadata": {},
          "execution_count": 5
        }
      ]
    },
    {
      "cell_type": "code",
      "source": [
        "#2. Default Arguments\n",
        "#Provides default values if no argument is passed.\n",
        "\n",
        "def greet(name=\"Guest\"): return f\"Hi {name}\"\n",
        "greet()  # Uses default\n"
      ],
      "metadata": {
        "colab": {
          "base_uri": "https://localhost:8080/",
          "height": 36
        },
        "id": "JFhGOZP6Uixq",
        "outputId": "093e5daa-06a8-45eb-800b-8c26389b3ac7"
      },
      "execution_count": 6,
      "outputs": [
        {
          "output_type": "execute_result",
          "data": {
            "text/plain": [
              "'Hi Guest'"
            ],
            "application/vnd.google.colaboratory.intrinsic+json": {
              "type": "string"
            }
          },
          "metadata": {},
          "execution_count": 6
        }
      ]
    },
    {
      "cell_type": "code",
      "source": [
        "#Keyword Arguments\n",
        "#Call using param=value, order doesn't matter.\n",
        "def intro(name, age):\n",
        "    print(f\"My name is {name} and I am {age} years old.\")\n",
        "\n",
        "intro(age=25, name=\"Sanjana\")\n"
      ],
      "metadata": {
        "colab": {
          "base_uri": "https://localhost:8080/"
        },
        "id": "N14FBMSKUiz6",
        "outputId": "a7d5183a-fc1a-4285-f663-9cedde5fa511"
      },
      "execution_count": 10,
      "outputs": [
        {
          "output_type": "stream",
          "name": "stdout",
          "text": [
            "My name is Sanjana and I am 25 years old.\n"
          ]
        }
      ]
    },
    {
      "cell_type": "code",
      "source": [
        "#Variable Arguments\n",
        "#*args → Multiple positional arguments.\n",
        "\n",
        "#**kwargs → Multiple keyword arguments.\n",
        "\n",
        "def add(*args):\n",
        "    print(args)\n",
        "    print(\"Sum:\", sum(args))\n",
        "\n",
        "add(1, 2, 3)"
      ],
      "metadata": {
        "colab": {
          "base_uri": "https://localhost:8080/"
        },
        "id": "1rw9Ts4RpMbT",
        "outputId": "3870ad5f-ab56-4359-c579-2a2a7f6bbb8d"
      },
      "execution_count": 11,
      "outputs": [
        {
          "output_type": "stream",
          "name": "stdout",
          "text": [
            "(1, 2, 3)\n",
            "Sum: 6\n"
          ]
        }
      ]
    },
    {
      "cell_type": "code",
      "source": [
        "#. Lambda Function\n",
        "#One-line anonymous function.\n",
        "\n",
        "square = lambda x: x*x\n",
        "square(4)"
      ],
      "metadata": {
        "colab": {
          "base_uri": "https://localhost:8080/"
        },
        "id": "ag9pmh9kpVLp",
        "outputId": "827be632-8b5e-4684-88ab-352ac1476351"
      },
      "execution_count": 12,
      "outputs": [
        {
          "output_type": "execute_result",
          "data": {
            "text/plain": [
              "16"
            ]
          },
          "metadata": {},
          "execution_count": 12
        }
      ]
    },
    {
      "cell_type": "code",
      "source": [
        "# What is the purpose of the `return` statement in a Python function?\n",
        "#Purpose of the return Statement in Python\n",
        "#The return statement is used to send a result back from a function to the caller. It ends the function and gives back a value.\n",
        "def add(a, b):\n",
        "    return a + b\n",
        "\n",
        "result = add(3, 5)\n",
        "print(result)"
      ],
      "metadata": {
        "colab": {
          "base_uri": "https://localhost:8080/"
        },
        "id": "69DRqUlApb-Q",
        "outputId": "4e90a6fc-6fb4-4877-8487-43ebff53211c"
      },
      "execution_count": 13,
      "outputs": [
        {
          "output_type": "stream",
          "name": "stdout",
          "text": [
            "8\n"
          ]
        }
      ]
    },
    {
      "cell_type": "code",
      "source": [
        "#. What are iterators in Python and how do they differ from iterables?\n",
        "#Iterable\n",
        "#Any object you can loop over (like list, tuple, string)\n",
        "\n",
        "#Uses __iter__() method to return an iterator\n",
        "\n",
        "\n",
        "nums = [1, 2, 3]  # This is an iterable\n",
        "\n",
        "#Iterator\n",
        "#An object that remembers its position during iteration\n",
        "\n",
        "#Uses __next__() to get the next item\n",
        "\n",
        "#Created using iter(iterable)\n",
        "\n",
        "it = iter(nums)  # This is an iterator\n",
        "print(next(it))\n"
      ],
      "metadata": {
        "colab": {
          "base_uri": "https://localhost:8080/"
        },
        "id": "OF4r54N1pcAi",
        "outputId": "1c5c4d28-1c70-42b9-81fb-e8b57484bdaf"
      },
      "execution_count": 18,
      "outputs": [
        {
          "output_type": "stream",
          "name": "stdout",
          "text": [
            "1\n"
          ]
        }
      ]
    },
    {
      "cell_type": "code",
      "source": [
        "# Explain the concept of generators in Python and how they are defined.\n",
        "'''A generator is a special type of function that yields values one at a time using the yield keyword instead of return.\n",
        "\n",
        "It remembers where it left off and resumes from there — perfect for working with large data or infinite sequences.'''\n",
        "\n",
        "def count_up_to(n):\n",
        "    count = 1\n",
        "    while count <= n:\n",
        "        yield count\n",
        "        count += 1\n",
        "gen = count_up_to(3)\n",
        "print(next(gen))\n",
        "print(next(gen))\n",
        "print(next(gen))"
      ],
      "metadata": {
        "colab": {
          "base_uri": "https://localhost:8080/"
        },
        "id": "dXMTwTUKpcCy",
        "outputId": "5d6927b5-c013-406a-d602-192e6f76d9c3"
      },
      "execution_count": 23,
      "outputs": [
        {
          "output_type": "stream",
          "name": "stdout",
          "text": [
            "1\n",
            "2\n",
            "3\n"
          ]
        }
      ]
    },
    {
      "cell_type": "code",
      "source": [
        "#What are the advantages of using generators over regular functions?\n",
        "'''Advantages of Generators over Regular Functions\n",
        "Memory Efficient\n",
        "Generators yield one item at a time, so they don’t store the whole data in memory.\n",
        "Perfect for large datasets or infinite sequences.\n",
        "\n",
        "Faster Startup Time\n",
        "Generators start execution immediately without waiting to compute the full result.\n",
        "\n",
        "Lazy Evaluation\n",
        "Values are generated on demand, not all at once.\n",
        "\n",
        "Clean & Simple Code\n",
        "yield keeps the logic elegant for loops and sequences.\n",
        "\n",
        "Infinite Sequences\n",
        "Great for things like reading a file line-by-line or generating endless numbers.'''\n",
        "def countdown(n):\n",
        "    while n > 0:\n",
        "        yield n\n",
        "        n -= 1"
      ],
      "metadata": {
        "id": "A4YvMw-IpcEz"
      },
      "execution_count": 24,
      "outputs": []
    },
    {
      "cell_type": "code",
      "source": [
        "# What is a lambda function in Python and when is it typically used?\n",
        "#A lambda function is a small, anonymous function with no name, defined using the lambda keyword.\n",
        "\n",
        "#Syntax:\n",
        "\n",
        "#lambda arguments: expression\n",
        "#Example:\n",
        "\n",
        "square = lambda x: x * x\n",
        "print(square(5))"
      ],
      "metadata": {
        "colab": {
          "base_uri": "https://localhost:8080/"
        },
        "id": "r52Ld9VspcG0",
        "outputId": "6264c519-9c55-4949-eb03-be330dd37879"
      },
      "execution_count": 25,
      "outputs": [
        {
          "output_type": "stream",
          "name": "stdout",
          "text": [
            "25\n"
          ]
        }
      ]
    },
    {
      "cell_type": "code",
      "source": [
        "#Explain the purpose and usage of the `map()` function in Python.\n",
        "#Purpose:The map() function applies a given function to each item in an iterable (like a list) and returns a new map object (which is iterable).\n",
        "#Syntax:\n",
        "\n",
        "#map(function, iterable)\n",
        "\n",
        "nums = [1, 2, 3, 4]\n",
        "squares = map(lambda x: x * x, nums)\n",
        "print(list(squares))\n"
      ],
      "metadata": {
        "colab": {
          "base_uri": "https://localhost:8080/"
        },
        "id": "4Vy3NzxapcJD",
        "outputId": "ea21f50d-08a0-4d73-9d73-2acf3126221c"
      },
      "execution_count": 27,
      "outputs": [
        {
          "output_type": "stream",
          "name": "stdout",
          "text": [
            "[1, 4, 9, 16]\n"
          ]
        }
      ]
    },
    {
      "cell_type": "code",
      "source": [
        "# What is the difference between `map()`, `reduce()`, and `filter()` functions in Python?\n",
        "'''map() transforms each item in an iterable using a function.\n",
        "👉 Example: Squaring every number in a list.\n",
        "\n",
        "filter() selects items from an iterable that meet a condition.\n",
        "👉 Example: Picking only even numbers from a list.\n",
        "\n",
        "reduce() (from functools) combines all items in an iterable into a single value using a function.\n",
        "👉 Example: Summing all numbers in a list.'''"
      ],
      "metadata": {
        "id": "4iSH6gIOpcLg"
      },
      "execution_count": null,
      "outputs": []
    },
    {
      "cell_type": "code",
      "source": [
        "#Using pen & Paper write the internal mechanism for sum operation using  reduce function on this given list:[47,11,42,13];\n",
        "''' Internal Steps:\n",
        "Step 1: 47 + 11 = 58\n",
        "Step 2: 58 + 42 = 100\n",
        "Step 3: 100 + 13 = 113'''\n",
        "\n",
        "from functools import reduce\n",
        "reduce(lambda x, y: x + y, [47, 11, 42, 13])"
      ],
      "metadata": {
        "colab": {
          "base_uri": "https://localhost:8080/"
        },
        "id": "mRTjkcFUpcM-",
        "outputId": "f18ab168-0f56-4067-e370-56deb14d3d98"
      },
      "execution_count": 32,
      "outputs": [
        {
          "output_type": "execute_result",
          "data": {
            "text/plain": [
              "113"
            ]
          },
          "metadata": {},
          "execution_count": 32
        }
      ]
    },
    {
      "cell_type": "markdown",
      "source": [
        "Practical Questions"
      ],
      "metadata": {
        "id": "xh9JiHFFtiMA"
      }
    },
    {
      "cell_type": "code",
      "source": [
        "#. Write a Python function that takes a list of numbers as input and returns the sum of all even numbers in the list.\n",
        "def sum_of_evens(numbers):\n",
        "    return sum(num for num in numbers if num % 2 == 0)\n",
        "\n",
        "nums = [10, 15, 20, 25, 30]\n",
        "result = sum_of_evens(nums)\n",
        "print(result)"
      ],
      "metadata": {
        "colab": {
          "base_uri": "https://localhost:8080/"
        },
        "id": "nyu3naUDtbR2",
        "outputId": "012a49fc-f41e-462a-bd7e-96e755c34abc"
      },
      "execution_count": 34,
      "outputs": [
        {
          "output_type": "stream",
          "name": "stdout",
          "text": [
            "60\n"
          ]
        }
      ]
    },
    {
      "cell_type": "code",
      "source": [
        " #Create a Python function that accepts a string and returns the reverse of that string.\n",
        "\n",
        " def reverse_string(s):\n",
        "    return s[::-1]\n",
        "text = \"Sanjana\"\n",
        "print(reverse_string(text))"
      ],
      "metadata": {
        "colab": {
          "base_uri": "https://localhost:8080/"
        },
        "id": "axK0D8KwtbUH",
        "outputId": "d10c1579-5ca4-4d52-b6b5-7a99bd6b0553"
      },
      "execution_count": 37,
      "outputs": [
        {
          "output_type": "stream",
          "name": "stdout",
          "text": [
            "anajnaS\n"
          ]
        }
      ]
    },
    {
      "cell_type": "code",
      "source": [
        "# Implement a Python function that takes a list of integers and returns a new list containing the squares of  each number\n",
        "def square_numbers(numbers):\n",
        "    return [num ** 2 for num in numbers]\n",
        "    nums = [1, 2, 3, 4]\n",
        "print(square_numbers(nums))"
      ],
      "metadata": {
        "colab": {
          "base_uri": "https://localhost:8080/"
        },
        "id": "gcHcAjvPvV5D",
        "outputId": "571ec367-f4d8-40c4-850d-74626589124a"
      },
      "execution_count": 39,
      "outputs": [
        {
          "output_type": "stream",
          "name": "stdout",
          "text": [
            "[100, 225, 400, 625, 900]\n"
          ]
        }
      ]
    },
    {
      "cell_type": "code",
      "source": [
        "# Write a Python function that checks if a given number is prime or not from 1 to 200.\n",
        "def is_prime(n):\n",
        "    if n < 2:\n",
        "        return False\n",
        "    for i in range(2, int(n**0.5) + 1):\n",
        "        if n % i == 0:\n",
        "            return False\n",
        "    return True\n",
        "\n",
        "# Print all prime numbers from 1 to 200\n",
        "for num in range(1, 201):\n",
        "    if is_prime(num):\n",
        "        print(num)"
      ],
      "metadata": {
        "colab": {
          "base_uri": "https://localhost:8080/"
        },
        "id": "oSCkDUrOvV8V",
        "outputId": "20627539-5099-4c4d-a58d-79f53e2fb519"
      },
      "execution_count": 46,
      "outputs": [
        {
          "output_type": "stream",
          "name": "stdout",
          "text": [
            "2\n",
            "3\n",
            "5\n",
            "7\n",
            "11\n",
            "13\n",
            "17\n",
            "19\n",
            "23\n",
            "29\n",
            "31\n",
            "37\n",
            "41\n",
            "43\n",
            "47\n",
            "53\n",
            "59\n",
            "61\n",
            "67\n",
            "71\n",
            "73\n",
            "79\n",
            "83\n",
            "89\n",
            "97\n",
            "101\n",
            "103\n",
            "107\n",
            "109\n",
            "113\n",
            "127\n",
            "131\n",
            "137\n",
            "139\n",
            "149\n",
            "151\n",
            "157\n",
            "163\n",
            "167\n",
            "173\n",
            "179\n",
            "181\n",
            "191\n",
            "193\n",
            "197\n",
            "199\n"
          ]
        }
      ]
    },
    {
      "cell_type": "code",
      "source": [
        "# Create an iterator class in Python that generates the Fibonacci sequence up to a specified number of terms.\n",
        "class Fibonacci:\n",
        "    def __init__(self, max_terms):\n",
        "        self.max_terms = max_terms\n",
        "        self.count = 0\n",
        "        self.a, self.b = 0, 1\n",
        "\n",
        "    def __iter__(self):\n",
        "        return self\n",
        "\n",
        "    def __next__(self):\n",
        "        if self.count >= self.max_terms:\n",
        "            raise StopIteration\n",
        "        fib = self.a\n",
        "        self.a, self.b = self.b, self.a + self.b\n",
        "        self.count += 1\n",
        "        return fib\n",
        "\n",
        "fib = Fibonacci(10)\n",
        "for num in fib:\n",
        "    print(num)"
      ],
      "metadata": {
        "colab": {
          "base_uri": "https://localhost:8080/"
        },
        "id": "jz7R-vrCvV_z",
        "outputId": "4fa70bf7-1945-4aeb-d2da-6e74393287d9"
      },
      "execution_count": 49,
      "outputs": [
        {
          "output_type": "stream",
          "name": "stdout",
          "text": [
            "0\n",
            "1\n",
            "1\n",
            "2\n",
            "3\n",
            "5\n",
            "8\n",
            "13\n",
            "21\n",
            "34\n"
          ]
        }
      ]
    },
    {
      "cell_type": "code",
      "source": [
        "# Write a generator function in Python that yields the powers of 2 up to a given exponent.\n",
        "def powers_of_two(max_exp):\n",
        "    for i in range(max_exp + 1):\n",
        "        yield 2 ** i\n",
        "\n",
        "# Example usage\n",
        "for val in powers_of_two(5):\n",
        "    print(val)"
      ],
      "metadata": {
        "colab": {
          "base_uri": "https://localhost:8080/"
        },
        "id": "IPPWD2EVvWFj",
        "outputId": "0b4eb1a5-a348-4729-e9fb-b5062137a808"
      },
      "execution_count": 51,
      "outputs": [
        {
          "output_type": "stream",
          "name": "stdout",
          "text": [
            "1\n",
            "2\n",
            "4\n",
            "8\n",
            "16\n",
            "32\n"
          ]
        }
      ]
    },
    {
      "cell_type": "code",
      "source": [
        "# Implement a generator function that reads a file line by line and yields each line as a string\n",
        "def read_file_lines(filepath):\n",
        "    with open(filepath, 'r') as file:\n",
        "        for line in file:\n",
        "            yield line.strip()"
      ],
      "metadata": {
        "id": "GTmQxmWmvWH7"
      },
      "execution_count": 54,
      "outputs": []
    },
    {
      "cell_type": "code",
      "source": [
        "#. Use a lambda function in Python to sort a list of tuples based on the second element of each tuple\n",
        "data = [(1, 3), (4, 1), (2, 2)]\n",
        "sorted_data = sorted(data, key=lambda x: x[1])\n",
        "print(sorted_data)"
      ],
      "metadata": {
        "colab": {
          "base_uri": "https://localhost:8080/"
        },
        "id": "oy4tOVmO5aWa",
        "outputId": "d27febca-52cc-4b6f-dd5d-269662a35428"
      },
      "execution_count": 55,
      "outputs": [
        {
          "output_type": "stream",
          "name": "stdout",
          "text": [
            "[(4, 1), (2, 2), (1, 3)]\n"
          ]
        }
      ]
    },
    {
      "cell_type": "code",
      "source": [
        "## Write a Python program that uses map() to convert a list of temperatures from Celsius to Fahrenheit.\n",
        "celsius = [0, 20, 37, 100]\n",
        "fahrenheit = list(map(lambda c: (c * 9/5) + 32, celsius))\n",
        "print(fahrenheit)"
      ],
      "metadata": {
        "colab": {
          "base_uri": "https://localhost:8080/"
        },
        "id": "lUgmFn_N6cTx",
        "outputId": "66e8f7cf-b6f9-48fd-e994-711611ac4e20"
      },
      "execution_count": 56,
      "outputs": [
        {
          "output_type": "stream",
          "name": "stdout",
          "text": [
            "[32.0, 68.0, 98.6, 212.0]\n"
          ]
        }
      ]
    },
    {
      "cell_type": "code",
      "source": [
        "# Create a Python program that uses `filter()` to remove all the vowels from a given string.\n",
        "def remove_vowels(s):\n",
        "    return ''.join(filter(lambda ch: ch.lower() not in 'aeiou', s))\n",
        "\n",
        "text = \"Hello World\"\n",
        "result = remove_vowels(text)\n",
        "print(result)\n"
      ],
      "metadata": {
        "colab": {
          "base_uri": "https://localhost:8080/"
        },
        "id": "9bPmYMtq6cZD",
        "outputId": "12190ca5-2404-4560-d30c-e5e820fb74e5"
      },
      "execution_count": 57,
      "outputs": [
        {
          "output_type": "stream",
          "name": "stdout",
          "text": [
            "Hll Wrld\n"
          ]
        }
      ]
    },
    {
      "cell_type": "code",
      "source": [
        "''' Imagine an accounting routine used in a book shop. It works on a list with sublists, which look like this:\n",
        "order number book title and author           quantity  price per item\n",
        "34587        learning py, mark lutz          4         40.95\n",
        "98762        programming py,mark lutz        5         56.80\n",
        "77226        head first py,paul barry        3         32.95\n",
        "88112        einfuhrung in py3,bernd klein   3         24.99\n",
        "\n",
        "Write a Python program, which returns a list with 2-tuples. Each tuple consists of the order number and the\n",
        "product of the price per item and the quantity. The product should be increased by 10,- € if the value of the\n",
        "order is smaller than 100,00 €.\n",
        "\n",
        "Write a Python program using lambda and map.'''\n",
        "\n",
        "orders = [\n",
        "    [34587, \"Learning Python, Mark Lutz\", 4, 40.95],\n",
        "    [98762, \"Programming Python, Mark Lutz\", 5, 56.80],\n",
        "    [77226, \"Head First Python, Paul Barry\", 3, 32.95],\n",
        "    [88112, \"Einfuhrung in Python3, Bernd Klein\", 3, 24.99]\n",
        "]\n",
        "\n",
        "result = list(map(lambda order:\n",
        "    (order[0], round(order[2] * order[3] + 10 if order[2] * order[3] < 100 else order[2] * order[3], 2)),\n",
        "    orders))\n",
        "\n",
        "print(result)"
      ],
      "metadata": {
        "colab": {
          "base_uri": "https://localhost:8080/"
        },
        "id": "vYOScg3h6cbD",
        "outputId": "18b336a3-62c0-4670-fac1-b2bb035ed6d9"
      },
      "execution_count": 58,
      "outputs": [
        {
          "output_type": "stream",
          "name": "stdout",
          "text": [
            "[(34587, 163.8), (98762, 284.0), (77226, 108.85), (88112, 84.97)]\n"
          ]
        }
      ]
    }
  ]
}