{
  "nbformat": 4,
  "nbformat_minor": 0,
  "metadata": {
    "colab": {
      "provenance": []
    },
    "kernelspec": {
      "name": "python3",
      "display_name": "Python 3"
    },
    "language_info": {
      "name": "python"
    }
  },
  "cells": [
    {
      "cell_type": "markdown",
      "source": [
        "**Practical Questions**"
      ],
      "metadata": {
        "id": "wGCf8z90IQcP"
      }
    },
    {
      "cell_type": "code",
      "execution_count": null,
      "metadata": {
        "colab": {
          "base_uri": "https://localhost:8080/"
        },
        "id": "2KWEbMve1GqT",
        "outputId": "f2c451bc-bb9b-4ba0-defc-39c3ad9bd4aa"
      },
      "outputs": [
        {
          "output_type": "stream",
          "name": "stdout",
          "text": [
            "sanjana\n"
          ]
        }
      ],
      "source": [
        "# Write a code to create a string with your name and print it\n",
        "Name ='sanjana'\n",
        "print(Name)"
      ]
    },
    {
      "cell_type": "code",
      "source": [
        "#Write a code to find the length of the string \"Hello World\"\n",
        "string='Hello world'\n",
        "string=len(string)\n",
        "print(string)"
      ],
      "metadata": {
        "colab": {
          "base_uri": "https://localhost:8080/"
        },
        "id": "r4ztbQV01Ob9",
        "outputId": "6cdabfae-836f-412a-b08f-614fbcd1501e"
      },
      "execution_count": null,
      "outputs": [
        {
          "output_type": "stream",
          "name": "stdout",
          "text": [
            "11\n"
          ]
        }
      ]
    },
    {
      "cell_type": "code",
      "source": [
        "# Write a code to slice the first 3 characters from the string \"Python Programming\"\n",
        "code =\"Python Programming\"\n",
        "code[0:3]\n"
      ],
      "metadata": {
        "colab": {
          "base_uri": "https://localhost:8080/",
          "height": 36
        },
        "id": "Nc7dliz61OaH",
        "outputId": "e43d5a7f-e8b7-4531-ddb3-5766570ad563"
      },
      "execution_count": null,
      "outputs": [
        {
          "output_type": "execute_result",
          "data": {
            "text/plain": [
              "'Pyt'"
            ],
            "application/vnd.google.colaboratory.intrinsic+json": {
              "type": "string"
            }
          },
          "metadata": {},
          "execution_count": 7
        }
      ]
    },
    {
      "cell_type": "code",
      "source": [
        "#Write a code to convert the string \"hello\" to uppercase\n",
        "S='hello'\n",
        "S.upper()"
      ],
      "metadata": {
        "colab": {
          "base_uri": "https://localhost:8080/",
          "height": 36
        },
        "id": "2f3fIaH11OYG",
        "outputId": "ab48bfcb-8ece-4b9b-9d37-0610f90a80d8"
      },
      "execution_count": null,
      "outputs": [
        {
          "output_type": "execute_result",
          "data": {
            "text/plain": [
              "'HELLO'"
            ],
            "application/vnd.google.colaboratory.intrinsic+json": {
              "type": "string"
            }
          },
          "metadata": {},
          "execution_count": 13
        }
      ]
    },
    {
      "cell_type": "code",
      "source": [
        "#Write a code to replace the word \"apple\" with \"orange\" in the string \"I like apple\"\n",
        "Word= 'I like apple'\n",
        "Word.replace('apple','orange')"
      ],
      "metadata": {
        "colab": {
          "base_uri": "https://localhost:8080/",
          "height": 36
        },
        "id": "c7NKX4sR1OV-",
        "outputId": "dc38fa0c-3cc3-47ba-d7de-f5a6f088506b"
      },
      "execution_count": null,
      "outputs": [
        {
          "output_type": "execute_result",
          "data": {
            "text/plain": [
              "'I like orange'"
            ],
            "application/vnd.google.colaboratory.intrinsic+json": {
              "type": "string"
            }
          },
          "metadata": {},
          "execution_count": 17
        }
      ]
    },
    {
      "cell_type": "code",
      "source": [
        "#Write a code to create a list with numbers 1 to 5 and print it\n",
        "p=[1,2,3,4,5]\n",
        "print(type(p))"
      ],
      "metadata": {
        "colab": {
          "base_uri": "https://localhost:8080/"
        },
        "id": "p2SrZUmM1OTo",
        "outputId": "4667693f-84a4-415f-ee16-093af604215b"
      },
      "execution_count": null,
      "outputs": [
        {
          "output_type": "stream",
          "name": "stdout",
          "text": [
            "<class 'list'>\n"
          ]
        }
      ]
    },
    {
      "cell_type": "code",
      "source": [
        "#Write a code to append the number 10 to the list [1, 2, 3, 4]\n",
        "List= [1,2,3,4]\n",
        "List.append(10)\n",
        "print(List)"
      ],
      "metadata": {
        "colab": {
          "base_uri": "https://localhost:8080/"
        },
        "id": "Gselds1r1OPN",
        "outputId": "cc8fba76-cac7-41f8-f220-8bd8c395da9e"
      },
      "execution_count": null,
      "outputs": [
        {
          "output_type": "stream",
          "name": "stdout",
          "text": [
            "[1, 2, 3, 4, 10]\n"
          ]
        }
      ]
    },
    {
      "cell_type": "code",
      "source": [
        "#Write a code to remove the number 3 from the list [1, 2, 3, 4, 5]\n",
        "List1=[1,2,3,4,5]\n",
        "List1.remove(3)\n",
        "print(List1)"
      ],
      "metadata": {
        "colab": {
          "base_uri": "https://localhost:8080/"
        },
        "id": "liF2kgVE1OLW",
        "outputId": "11532075-99be-4ce4-a544-6ba627d55fc5"
      },
      "execution_count": null,
      "outputs": [
        {
          "output_type": "stream",
          "name": "stdout",
          "text": [
            "[1, 2, 4, 5]\n"
          ]
        }
      ]
    },
    {
      "cell_type": "code",
      "source": [
        "#Write a code to access the second element in the list ['a', 'b', 'c', 'd']\n",
        "List2=['a','b','c','d']\n",
        "print((List2)[1])"
      ],
      "metadata": {
        "colab": {
          "base_uri": "https://localhost:8080/"
        },
        "id": "E-0NXbmw1OI-",
        "outputId": "9d54d11b-5362-41ff-9a98-f27ebaf299ce"
      },
      "execution_count": null,
      "outputs": [
        {
          "output_type": "stream",
          "name": "stdout",
          "text": [
            "b\n"
          ]
        }
      ]
    },
    {
      "cell_type": "code",
      "source": [
        "#Write a code to reverse the list [10, 20, 30, 40, 50].\n",
        "List3=[10, 20, 30, 40, 50]\n",
        "List3[::-1]\n"
      ],
      "metadata": {
        "colab": {
          "base_uri": "https://localhost:8080/"
        },
        "id": "VHCLMpcQ6MlL",
        "outputId": "56d52e2b-1be3-4d19-a8a1-9c3334c65ea4"
      },
      "execution_count": null,
      "outputs": [
        {
          "output_type": "execute_result",
          "data": {
            "text/plain": [
              "[50, 40, 30, 20, 10]"
            ]
          },
          "metadata": {},
          "execution_count": 39
        }
      ]
    },
    {
      "cell_type": "code",
      "source": [
        " #Write a code to create a tuple with the elements 100, 200, 300 and print it.\n",
        " Tuple=(100,200,300)\n",
        " print(type(Tuple))"
      ],
      "metadata": {
        "colab": {
          "base_uri": "https://localhost:8080/"
        },
        "id": "0_H0jfkh6Mn4",
        "outputId": "d760e9ad-fb3d-493c-9b0f-e6de1443680e"
      },
      "execution_count": null,
      "outputs": [
        {
          "output_type": "stream",
          "name": "stdout",
          "text": [
            "<class 'tuple'>\n"
          ]
        }
      ]
    },
    {
      "cell_type": "code",
      "source": [
        " #Write a code to access the second-to-last element of the tuple  ('red', 'green', 'blue', 'yellow')\n",
        " tuple = ('red', 'green', 'blue', 'yellow')\n",
        " tuple[2]"
      ],
      "metadata": {
        "colab": {
          "base_uri": "https://localhost:8080/",
          "height": 36
        },
        "id": "Ghysga796Mry",
        "outputId": "b4a5cd58-c1a8-478d-dda4-abc09e9e0167"
      },
      "execution_count": null,
      "outputs": [
        {
          "output_type": "execute_result",
          "data": {
            "text/plain": [
              "'blue'"
            ],
            "application/vnd.google.colaboratory.intrinsic+json": {
              "type": "string"
            }
          },
          "metadata": {},
          "execution_count": 47
        }
      ]
    },
    {
      "cell_type": "code",
      "source": [
        "# Write a code to find the minimum number in the tuple (10, 20, 5, 15)\n",
        "tuple =(10, 20, 5, 15)\n",
        "print(min(tuple))"
      ],
      "metadata": {
        "colab": {
          "base_uri": "https://localhost:8080/"
        },
        "id": "3SV3GDFk6MuT",
        "outputId": "3be12629-024e-400e-e517-af46e6a73c41"
      },
      "execution_count": null,
      "outputs": [
        {
          "output_type": "stream",
          "name": "stdout",
          "text": [
            "5\n"
          ]
        }
      ]
    },
    {
      "cell_type": "code",
      "source": [
        "# Write a code to find the index of the element \"cat\" in the tuple ('dog', 'cat', 'rabbit')\n",
        "tuple= ('dog', 'cat', 'rabbit')\n",
        "tuple.index('cat')"
      ],
      "metadata": {
        "colab": {
          "base_uri": "https://localhost:8080/"
        },
        "id": "bv9fab6t6Mwg",
        "outputId": "5873b218-c3a1-4bf5-a7bb-b92c2464baa9"
      },
      "execution_count": null,
      "outputs": [
        {
          "output_type": "execute_result",
          "data": {
            "text/plain": [
              "1"
            ]
          },
          "metadata": {},
          "execution_count": 60
        }
      ]
    },
    {
      "cell_type": "code",
      "source": [
        "#. Write a code to create a tuple containing three different fruits and check if \"kiwi\" is in it.\n",
        "fruits = (\"apple\", \"banana\", \"cherry\")\n",
        "print(\"kiwi\" in fruits)"
      ],
      "metadata": {
        "colab": {
          "base_uri": "https://localhost:8080/"
        },
        "id": "ri0gQEfD6MyY",
        "outputId": "c572ee9c-46cc-4640-91f3-04975f5b08dd"
      },
      "execution_count": null,
      "outputs": [
        {
          "output_type": "stream",
          "name": "stdout",
          "text": [
            "False\n"
          ]
        }
      ]
    },
    {
      "cell_type": "code",
      "source": [
        "# Write a code to create a set with the elements 'a', 'b', 'c' and print it.\n",
        "set={'a','b','c'}\n",
        "print(type(set))"
      ],
      "metadata": {
        "colab": {
          "base_uri": "https://localhost:8080/"
        },
        "id": "vJI2wIeg6M0Z",
        "outputId": "0d003a70-4bbd-4695-f6a1-f0b3f47149dc"
      },
      "execution_count": null,
      "outputs": [
        {
          "output_type": "stream",
          "name": "stdout",
          "text": [
            "<class 'set'>\n"
          ]
        }
      ]
    },
    {
      "cell_type": "code",
      "source": [
        "#Write a code to remove the element 4 from the set {1, 2, 3, 4}.\n",
        "set={1,2,3,4}\n",
        "set.remove(4)\n",
        "print(set)"
      ],
      "metadata": {
        "colab": {
          "base_uri": "https://localhost:8080/"
        },
        "id": "2Zysh69nBRFl",
        "outputId": "8843566d-a143-47b3-fb6d-7084e30354b3"
      },
      "execution_count": null,
      "outputs": [
        {
          "output_type": "stream",
          "name": "stdout",
          "text": [
            "{1, 2, 3}\n"
          ]
        }
      ]
    },
    {
      "cell_type": "code",
      "source": [
        "# Write a code to find the union of two sets {1, 2, 3} and {3, 4, 5}\n",
        "set1 = {1, 2, 3}\n",
        "set2 = {3, 4, 5}\n",
        "union_set = set1.union(set2)\n",
        "print(union_set)  # Output: {1, 2, 3, 4, 5}\n"
      ],
      "metadata": {
        "colab": {
          "base_uri": "https://localhost:8080/"
        },
        "id": "WRrEmN176M4o",
        "outputId": "42d79220-064d-4b03-d70c-0e9de417a251"
      },
      "execution_count": null,
      "outputs": [
        {
          "output_type": "stream",
          "name": "stdout",
          "text": [
            "{1, 2, 3, 4, 5}\n"
          ]
        }
      ]
    },
    {
      "cell_type": "code",
      "source": [
        "# Write a code to find the intersection of two sets {1, 2, 3} and {2, 3, 4}.\n",
        "seta= {1, 2, 3}\n",
        "setb= {2, 3, 4}\n",
        "seta&setb"
      ],
      "metadata": {
        "colab": {
          "base_uri": "https://localhost:8080/"
        },
        "id": "F3dytqRP6M6y",
        "outputId": "9a6cff50-b97d-4ac6-d68a-56c856c1d485"
      },
      "execution_count": null,
      "outputs": [
        {
          "output_type": "execute_result",
          "data": {
            "text/plain": [
              "{2, 3}"
            ]
          },
          "metadata": {},
          "execution_count": 77
        }
      ]
    },
    {
      "cell_type": "code",
      "source": [
        "#Write a code to create a dictionary with the keys \"name\", \"age\", and \"city\", and print it."
      ],
      "metadata": {
        "id": "ASCU9kOU6M88"
      },
      "execution_count": null,
      "outputs": []
    },
    {
      "cell_type": "code",
      "source": [
        "dic={'name':'sanjana', 'age':'23', 'city':'banglore'}\n",
        "print(dic)"
      ],
      "metadata": {
        "id": "_BxZDuBS6M_J",
        "colab": {
          "base_uri": "https://localhost:8080/"
        },
        "outputId": "f392db8c-51ca-49aa-d2e6-0f5dcb1665b0"
      },
      "execution_count": null,
      "outputs": [
        {
          "output_type": "stream",
          "name": "stdout",
          "text": [
            "{'name': 'sanjana', 'age': '23', 'city': 'banglore'}\n"
          ]
        }
      ]
    },
    {
      "cell_type": "code",
      "source": [
        "#Write a code to add a new key-value pair \"country\": \"USA\" to the dictionary {'name': 'John', 'age': 25}\n",
        "dic= {'name': 'John', 'age': 25 ,}\n",
        "dic['country']= 'USA'\n",
        "print(dic)"
      ],
      "metadata": {
        "id": "OqgFm5gw6NDK",
        "colab": {
          "base_uri": "https://localhost:8080/"
        },
        "outputId": "e3152d90-0302-4f23-c305-cdf571d10fdd"
      },
      "execution_count": null,
      "outputs": [
        {
          "output_type": "stream",
          "name": "stdout",
          "text": [
            "{'name': 'John', 'age': 25, 'country': 'USA'}\n"
          ]
        }
      ]
    },
    {
      "cell_type": "markdown",
      "source": [],
      "metadata": {
        "id": "NGEP7EMH1Ljf"
      }
    },
    {
      "cell_type": "code",
      "source": [
        "# Write a code to remove the key \"age\" from the dictionary {'name': 'Bob', 'age': 22, 'city': 'New York'}\n",
        "Dic={'name': 'Bob', 'age': 22, 'city': 'New York'}\n",
        "del Dic['age']\n",
        "print(Dic)"
      ],
      "metadata": {
        "colab": {
          "base_uri": "https://localhost:8080/"
        },
        "id": "xiYDF0jx-XWq",
        "outputId": "0fba9144-f4f1-4249-f47d-c0e5bd528b36"
      },
      "execution_count": null,
      "outputs": [
        {
          "output_type": "stream",
          "name": "stdout",
          "text": [
            "{'name': 'Bob', 'city': 'New York'}\n"
          ]
        }
      ]
    },
    {
      "cell_type": "code",
      "source": [
        "#Write a code to check if the key \"city\" exists in the dictionary {'name': 'Alice', 'city': 'Paris'}\n",
        "a = {'name': 'Alice', 'city': 'Paris'}\n",
        "if 'city' in a:\n",
        " print('city is present in dictionary')\n",
        "else:\n",
        "   print('city is not present in dictionary')"
      ],
      "metadata": {
        "colab": {
          "base_uri": "https://localhost:8080/"
        },
        "id": "eXCWKnL2-XUj",
        "outputId": "1f91f831-fd6c-4982-802f-08acea1b4f07"
      },
      "execution_count": null,
      "outputs": [
        {
          "output_type": "stream",
          "name": "stdout",
          "text": [
            "city is present in dictionary\n"
          ]
        }
      ]
    },
    {
      "cell_type": "code",
      "source": [
        "#Write a code to create a list, a tuple, and a dictionary, and print them all.\n",
        "a=[1,2,3]\n",
        "b=(4,5,6)\n",
        "c={'x':7, 'y':8,'z': 9}\n",
        "print(a,b,c)"
      ],
      "metadata": {
        "colab": {
          "base_uri": "https://localhost:8080/"
        },
        "id": "r1Lpk4W3-XSa",
        "outputId": "68cd1368-a849-49c4-8f7d-32ce22936da4"
      },
      "execution_count": null,
      "outputs": [
        {
          "output_type": "stream",
          "name": "stdout",
          "text": [
            "[1, 2, 3] (4, 5, 6) {'x': 7, 'y': 8, 'z': 9}\n"
          ]
        }
      ]
    },
    {
      "cell_type": "code",
      "source": [
        "# Write a code to create a list of 5 random numbers between 1 and 100, sort it in ascending order, and print the result.(replaced)\n",
        "s=[22,55,99,33,44]\n",
        "s.sort()\n",
        "print(s)\n"
      ],
      "metadata": {
        "colab": {
          "base_uri": "https://localhost:8080/"
        },
        "id": "IXCy_eGN-XQI",
        "outputId": "c5d83fab-bc0e-4770-89d9-9a59e28455df"
      },
      "execution_count": null,
      "outputs": [
        {
          "output_type": "stream",
          "name": "stdout",
          "text": [
            "[22, 33, 44, 55, 99]\n"
          ]
        }
      ]
    },
    {
      "cell_type": "code",
      "source": [
        "# Write a code to create a list with strings and print the element at the third index.\n",
        "h=('cat','monkey','dog','fish')\n",
        "print('third element of index:',h[3])"
      ],
      "metadata": {
        "colab": {
          "base_uri": "https://localhost:8080/"
        },
        "id": "SR4I3vlv-XN4",
        "outputId": "9e538ca2-51cf-4e18-b4d0-b5d968f25a23"
      },
      "execution_count": null,
      "outputs": [
        {
          "output_type": "stream",
          "name": "stdout",
          "text": [
            "third element of index: fish\n"
          ]
        }
      ]
    },
    {
      "cell_type": "code",
      "source": [
        "#Write a code to combine two dictionaries into one and print the result.\n",
        "d = {'a': 1, 'c': 2, 'd': 3}\n",
        "r = {'f': 4, 'l': 5, 'm': 6}\n",
        "\n",
        "\n",
        "merged_dict = d.copy()\n",
        "merged_dict.update(r)\n",
        "\n",
        "print(merged_dict)"
      ],
      "metadata": {
        "colab": {
          "base_uri": "https://localhost:8080/"
        },
        "id": "Jox0HZzp-XLw",
        "outputId": "7f8861ef-f351-4c04-99f2-d32e690242a8"
      },
      "execution_count": null,
      "outputs": [
        {
          "output_type": "stream",
          "name": "stdout",
          "text": [
            "{'a': 1, 'c': 2, 'd': 3, 'f': 4, 'l': 5, 'm': 6}\n"
          ]
        }
      ]
    },
    {
      "cell_type": "code",
      "source": [
        " #Write a code to convert a list of strings into a set\n",
        " list=('abc','def','hgk')\n",
        " print(set(list))"
      ],
      "metadata": {
        "colab": {
          "base_uri": "https://localhost:8080/"
        },
        "id": "67bAyN-4-XJY",
        "outputId": "0404e348-8449-456d-c2d7-471b5cc4e4d9"
      },
      "execution_count": null,
      "outputs": [
        {
          "output_type": "stream",
          "name": "stdout",
          "text": [
            "{'def', 'abc', 'hgk'}\n"
          ]
        }
      ]
    },
    {
      "cell_type": "markdown",
      "source": [
        "**Data Types and Structures Questions**"
      ],
      "metadata": {
        "id": "gO0nYB9UIoXd"
      }
    },
    {
      "cell_type": "code",
      "source": [
        "#What are data structures, and why are they important?\n",
        "#Data structures are ways to organize and store data efficiently in memory. They are crucial because they optimize data access, retrieval, and manipulation, making programs faster and more efficient. Common Python data structures include lists, tuples, dictionaries, sets, and more."
      ],
      "metadata": {
        "id": "Wi7TPEP7ItS8"
      },
      "execution_count": null,
      "outputs": []
    },
    {
      "cell_type": "code",
      "source": [
        "#Explain the difference between mutable and immutable data types with examples.\n",
        "#Mutable: Can be changed after creation. Example: Lists (list), Dictionaries (dict), Sets (set).\n",
        "\n",
        "my_list = [1, 2, 3]\n",
        "my_list[0] = 10  # Allowed, modifies the list\n",
        "\n",
        "#Immutable: Cannot be changed after creation. Example: Tuples (tuple), Strings (str).\n",
        "\n",
        "my_tuple = (1, 2, 3)\n",
        "my_tuple[0] = 10  # Error: Tuples are immutable"
      ],
      "metadata": {
        "id": "dTvZqDSpIt_V",
        "colab": {
          "base_uri": "https://localhost:8080/",
          "height": 176
        },
        "outputId": "e22584da-92c9-4847-b42d-cddbec8254d7"
      },
      "execution_count": 1,
      "outputs": [
        {
          "output_type": "error",
          "ename": "TypeError",
          "evalue": "'tuple' object does not support item assignment",
          "traceback": [
            "\u001b[0;31m---------------------------------------------------------------------------\u001b[0m",
            "\u001b[0;31mTypeError\u001b[0m                                 Traceback (most recent call last)",
            "\u001b[0;32m<ipython-input-1-32e55547eb84>\u001b[0m in \u001b[0;36m<cell line: 0>\u001b[0;34m()\u001b[0m\n\u001b[1;32m     11\u001b[0m \u001b[0;34m\u001b[0m\u001b[0m\n\u001b[1;32m     12\u001b[0m \u001b[0mmy_tuple\u001b[0m \u001b[0;34m=\u001b[0m \u001b[0;34m(\u001b[0m\u001b[0;36m1\u001b[0m\u001b[0;34m,\u001b[0m \u001b[0;36m2\u001b[0m\u001b[0;34m,\u001b[0m \u001b[0;36m3\u001b[0m\u001b[0;34m)\u001b[0m\u001b[0;34m\u001b[0m\u001b[0;34m\u001b[0m\u001b[0m\n\u001b[0;32m---> 13\u001b[0;31m \u001b[0mmy_tuple\u001b[0m\u001b[0;34m[\u001b[0m\u001b[0;36m0\u001b[0m\u001b[0;34m]\u001b[0m \u001b[0;34m=\u001b[0m \u001b[0;36m10\u001b[0m  \u001b[0;31m# Error: Tuples are immutable\u001b[0m\u001b[0;34m\u001b[0m\u001b[0;34m\u001b[0m\u001b[0m\n\u001b[0m",
            "\u001b[0;31mTypeError\u001b[0m: 'tuple' object does not support item assignment"
          ]
        }
      ]
    },
    {
      "cell_type": "code",
      "source": [
        "#What are the main differences between lists and tuples in Python?\n",
        "#Lists and tuples in Python are both used to store collections of items, but they have key differences. Lists are mutable, meaning their elements can be changed, added, or removed after creation, making them suitable for situations where data needs modification. In contrast, tuples are immutable, meaning their elements cannot be changed once assigned, making them ideal for storing constant data. Due to their immutability, tuples are faster than lists in terms of performance, especially when iterating over large datasets. Lists are defined using square brackets ([]), whereas tuples use parentheses (()). While lists are commonly used when frequent modifications are needed, tuples are preferred when data integrity and consistency are required, such as storing fixed values like coordinates or database records."
      ],
      "metadata": {
        "id": "DtwgFYlgIt9d"
      },
      "execution_count": null,
      "outputs": []
    },
    {
      "cell_type": "code",
      "source": [
        "# Describe how dictionaries store data.\n",
        "#Dictionaries store data as key-value pairs using a hash table. Each key is hashed to determine its index in memory, making lookup operations very fast (O(1) average time complexity).\n",
        "\n",
        "my_dict = {\"name\": \"Alice\", \"age\": 25}\n",
        "print(my_dict[\"name\"])"
      ],
      "metadata": {
        "id": "TTSFgDwlIt7P",
        "colab": {
          "base_uri": "https://localhost:8080/"
        },
        "outputId": "26d194d3-42be-4169-d604-b946e262a8d5"
      },
      "execution_count": 3,
      "outputs": [
        {
          "output_type": "stream",
          "name": "stdout",
          "text": [
            "Alice\n"
          ]
        }
      ]
    },
    {
      "cell_type": "code",
      "source": [
        "#Why might you use a set instead of a list in Python?\n",
        "#Sets automatically remove duplicate values.\n",
        "#Faster lookup (O(1) time complexity) compared to lists (O(n)).\n",
        "#Ideal for membership tests.\n",
        "\n",
        "my_set = {1, 2, 3, 3, 4}\n",
        "print(my_set)\n"
      ],
      "metadata": {
        "id": "66sEbIYoIt5G",
        "colab": {
          "base_uri": "https://localhost:8080/"
        },
        "outputId": "c5602d5e-2feb-43eb-bfcc-a61ed069c7bb"
      },
      "execution_count": 4,
      "outputs": [
        {
          "output_type": "stream",
          "name": "stdout",
          "text": [
            "{1, 2, 3, 4}\n"
          ]
        }
      ]
    },
    {
      "cell_type": "code",
      "source": [
        "#What is a string in Python, and how is it different from a list?\n",
        "#A string is an immutable sequence of characters, while a list is a mutable sequence of elements.\n",
        "s = \"hello\"\n",
        "s[0] = \"H\"  # Error: Strings are immutable\n",
        "\n",
        "lst = [\"h\", \"e\", \"l\", \"l\", \"o\"]\n",
        "lst[0] = \"H\"  # Allowed, lists are mutable"
      ],
      "metadata": {
        "id": "fx5RRF8KIt20",
        "colab": {
          "base_uri": "https://localhost:8080/",
          "height": 211
        },
        "outputId": "29fd6876-4713-4304-9c39-9519920ea131"
      },
      "execution_count": 5,
      "outputs": [
        {
          "output_type": "error",
          "ename": "TypeError",
          "evalue": "'str' object does not support item assignment",
          "traceback": [
            "\u001b[0;31m---------------------------------------------------------------------------\u001b[0m",
            "\u001b[0;31mTypeError\u001b[0m                                 Traceback (most recent call last)",
            "\u001b[0;32m<ipython-input-5-4c11987d3d66>\u001b[0m in \u001b[0;36m<cell line: 0>\u001b[0;34m()\u001b[0m\n\u001b[1;32m      2\u001b[0m \u001b[0;31m#A string is an immutable sequence of characters, while a list is a mutable sequence of elements.\u001b[0m\u001b[0;34m\u001b[0m\u001b[0;34m\u001b[0m\u001b[0m\n\u001b[1;32m      3\u001b[0m \u001b[0ms\u001b[0m \u001b[0;34m=\u001b[0m \u001b[0;34m\"hello\"\u001b[0m\u001b[0;34m\u001b[0m\u001b[0;34m\u001b[0m\u001b[0m\n\u001b[0;32m----> 4\u001b[0;31m \u001b[0ms\u001b[0m\u001b[0;34m[\u001b[0m\u001b[0;36m0\u001b[0m\u001b[0;34m]\u001b[0m \u001b[0;34m=\u001b[0m \u001b[0;34m\"H\"\u001b[0m  \u001b[0;31m# Error: Strings are immutable\u001b[0m\u001b[0;34m\u001b[0m\u001b[0;34m\u001b[0m\u001b[0m\n\u001b[0m\u001b[1;32m      5\u001b[0m \u001b[0;34m\u001b[0m\u001b[0m\n\u001b[1;32m      6\u001b[0m \u001b[0mlst\u001b[0m \u001b[0;34m=\u001b[0m \u001b[0;34m[\u001b[0m\u001b[0;34m\"h\"\u001b[0m\u001b[0;34m,\u001b[0m \u001b[0;34m\"e\"\u001b[0m\u001b[0;34m,\u001b[0m \u001b[0;34m\"l\"\u001b[0m\u001b[0;34m,\u001b[0m \u001b[0;34m\"l\"\u001b[0m\u001b[0;34m,\u001b[0m \u001b[0;34m\"o\"\u001b[0m\u001b[0;34m]\u001b[0m\u001b[0;34m\u001b[0m\u001b[0;34m\u001b[0m\u001b[0m\n",
            "\u001b[0;31mTypeError\u001b[0m: 'str' object does not support item assignment"
          ]
        }
      ]
    },
    {
      "cell_type": "code",
      "source": [
        "#How do tuples ensure data integrity in Python?\n",
        "#Tuples are immutable, meaning their values cannot be changed. This ensures that data remains unchanged, making them useful for fixed collections like database records."
      ],
      "metadata": {
        "id": "IyEzCjuJIt0f"
      },
      "execution_count": null,
      "outputs": []
    },
    {
      "cell_type": "code",
      "source": [
        "# What is a hash table, and how does it relate to dictionaries in Python?\n",
        "#A hash table is a data structure that maps keys to values using a hash function. Python’s dictionaries use hash tables for fast key lookups (O(1) average time complexity)."
      ],
      "metadata": {
        "id": "eqLjvOoIItwl"
      },
      "execution_count": null,
      "outputs": []
    },
    {
      "cell_type": "code",
      "source": [
        "#Can lists contain different data types in Python?\n",
        "#Yes, lists can store different data types.\n",
        "\n",
        "mixed_list = [1, \"hello\", 3.14, [1, 2, 3]]"
      ],
      "metadata": {
        "id": "T0RGAG6rHlNV"
      },
      "execution_count": 6,
      "outputs": []
    },
    {
      "cell_type": "code",
      "source": [
        "# Explain why strings are immutable in Python.\n",
        "#Strings are immutable to optimize memory usage and performance. Since strings are commonly used, immutability prevents unintended modifications and allows efficient memory allocation."
      ],
      "metadata": {
        "id": "6zwShOs_HlQG"
      },
      "execution_count": null,
      "outputs": []
    },
    {
      "cell_type": "code",
      "source": [
        "#What advantages do dictionaries offer over lists for certain tasks?\n",
        "#Fast lookup (O(1) vs. O(n) for lists).\n",
        "#Key-value pairing makes data more structured.\n",
        "#Ideal for storing relationships (e.g., name-to-phone-number mapping)."
      ],
      "metadata": {
        "id": "YCcGDAHDHlUd"
      },
      "execution_count": null,
      "outputs": []
    },
    {
      "cell_type": "code",
      "source": [
        "#Describe a scenario where using a tuple would be preferable over a list.\n",
        "#When returning multiple values from a function.\n",
        "#When using dictionary keys (since keys must be immutable).\n",
        "#When working with constant data like geographic coordinates (latitude, longitude)."
      ],
      "metadata": {
        "id": "NFem0CvuHlW2"
      },
      "execution_count": null,
      "outputs": []
    },
    {
      "cell_type": "code",
      "source": [
        "#How do sets handle duplicate values in Python?\n",
        "#Sets automatically eliminate duplicate values when storing data.\n",
        "\n",
        "nums = {1, 2, 2, 3}\n",
        "print(nums)"
      ],
      "metadata": {
        "colab": {
          "base_uri": "https://localhost:8080/"
        },
        "id": "MmcehLKLIJ1X",
        "outputId": "5d7f9a86-83bb-4d37-dc0b-e52ffba7c6e2"
      },
      "execution_count": 7,
      "outputs": [
        {
          "output_type": "stream",
          "name": "stdout",
          "text": [
            "{1, 2, 3}\n"
          ]
        }
      ]
    },
    {
      "cell_type": "code",
      "source": [
        "#How does the “in” keyword work differently for lists and dictionaries?\n",
        "#In lists, in checks if a value exists (O(n) time).\n",
        "\n",
        "#In dictionaries, in checks if a key exists (O(1) time).\n",
        "\n",
        "print(2 in [1, 2, 3])  # True\n",
        "print(\"name\" in {\"name\": \"Alice\", \"age\": 25})"
      ],
      "metadata": {
        "colab": {
          "base_uri": "https://localhost:8080/"
        },
        "id": "Jg5Dajc7IJ4j",
        "outputId": "1d8745c2-acb5-4a80-e2cc-9ff12f4809d9"
      },
      "execution_count": 8,
      "outputs": [
        {
          "output_type": "stream",
          "name": "stdout",
          "text": [
            "True\n",
            "True\n"
          ]
        }
      ]
    },
    {
      "cell_type": "code",
      "source": [
        "#Can you modify the elements of a tuple? Explain why or why not.\n",
        "#No, tuples are immutable. Once created, their elements cannot be modified.\n",
        "\n",
        "t = (1, 2, 3)\n",
        "t[0] = 10  # Error: Tuples cannot be modified"
      ],
      "metadata": {
        "colab": {
          "base_uri": "https://localhost:8080/",
          "height": 176
        },
        "id": "gJ90gwnvIJ69",
        "outputId": "04381fae-328f-4ffc-a75b-976e1fa1d8ad"
      },
      "execution_count": 9,
      "outputs": [
        {
          "output_type": "error",
          "ename": "TypeError",
          "evalue": "'tuple' object does not support item assignment",
          "traceback": [
            "\u001b[0;31m---------------------------------------------------------------------------\u001b[0m",
            "\u001b[0;31mTypeError\u001b[0m                                 Traceback (most recent call last)",
            "\u001b[0;32m<ipython-input-9-b4515d5d862a>\u001b[0m in \u001b[0;36m<cell line: 0>\u001b[0;34m()\u001b[0m\n\u001b[1;32m      3\u001b[0m \u001b[0;34m\u001b[0m\u001b[0m\n\u001b[1;32m      4\u001b[0m \u001b[0mt\u001b[0m \u001b[0;34m=\u001b[0m \u001b[0;34m(\u001b[0m\u001b[0;36m1\u001b[0m\u001b[0;34m,\u001b[0m \u001b[0;36m2\u001b[0m\u001b[0;34m,\u001b[0m \u001b[0;36m3\u001b[0m\u001b[0;34m)\u001b[0m\u001b[0;34m\u001b[0m\u001b[0;34m\u001b[0m\u001b[0m\n\u001b[0;32m----> 5\u001b[0;31m \u001b[0mt\u001b[0m\u001b[0;34m[\u001b[0m\u001b[0;36m0\u001b[0m\u001b[0;34m]\u001b[0m \u001b[0;34m=\u001b[0m \u001b[0;36m10\u001b[0m  \u001b[0;31m# Error: Tuples cannot be modified\u001b[0m\u001b[0;34m\u001b[0m\u001b[0;34m\u001b[0m\u001b[0m\n\u001b[0m",
            "\u001b[0;31mTypeError\u001b[0m: 'tuple' object does not support item assignment"
          ]
        }
      ]
    },
    {
      "cell_type": "code",
      "source": [
        "#What is a nested dictionary, and give an example of its use case.\n",
        "#A nested dictionary is a dictionary inside another dictionary. Useful for hierarchical data like user profiles.\n",
        "\n",
        "\n",
        "users = {\n",
        "    \"Alice\": {\"age\": 25, \"city\": \"NY\"},\n",
        "    \"Bob\": {\"age\": 30, \"city\": \"LA\"}\n",
        "}\n",
        "print(users[\"Alice\"][\"city\"])"
      ],
      "metadata": {
        "colab": {
          "base_uri": "https://localhost:8080/"
        },
        "id": "LFGFYn7TIJ9G",
        "outputId": "6da7b460-89ca-407d-80f1-6657210665c0"
      },
      "execution_count": 10,
      "outputs": [
        {
          "output_type": "stream",
          "name": "stdout",
          "text": [
            "NY\n"
          ]
        }
      ]
    },
    {
      "cell_type": "code",
      "source": [
        "#Describe the time complexity of accessing elements in a dictionary.\n",
        "#Average case: O(1) (direct hash lookup).\n",
        "\n",
        "#Worst case: O(n) (if hash collisions occur)."
      ],
      "metadata": {
        "id": "AlUOycDgIJ_j"
      },
      "execution_count": 11,
      "outputs": []
    },
    {
      "cell_type": "code",
      "source": [
        "#In what situations are lists preferred over dictionaries?\n",
        "#When maintaining an ordered collection of elements.\n",
        "\n",
        "#When iterating sequentially over elements.\n",
        "\n",
        "#When duplicate values are needed."
      ],
      "metadata": {
        "id": "hoBaWl8GIKB_"
      },
      "execution_count": null,
      "outputs": []
    },
    {
      "cell_type": "code",
      "source": [
        "#Why are dictionaries considered unordered, and how does that affect data retrieval?\n",
        "#Dictionaries prior to Python 3.7 were unordered, meaning insertion order wasn’t preserved. However, from Python 3.7+, insertion order is maintained. Data retrieval is still based on key lookup, not position."
      ],
      "metadata": {
        "id": "jtU2vo_dIKEN"
      },
      "execution_count": null,
      "outputs": []
    },
    {
      "cell_type": "code",
      "source": [
        "#xplain the difference between a list and a dictionary in terms of data retrieval.\n",
        "#List: Retrieves elements by index (O(1) for direct access, O(n) for searching).\n",
        "\n",
        "#Dictionary: Retrieves elements by key (O(1) average case)."
      ],
      "metadata": {
        "id": "DcYLSyxVI7Zc"
      },
      "execution_count": null,
      "outputs": []
    }
  ]
}